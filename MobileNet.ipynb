{
  "nbformat": 4,
  "nbformat_minor": 0,
  "metadata": {
    "accelerator": "GPU",
    "colab": {
      "name": "MobileNet.ipynb",
      "provenance": [],
      "collapsed_sections": [],
      "authorship_tag": "ABX9TyP60O7KA2KF+Y7l7rae+eQo",
      "include_colab_link": true
    },
    "kernelspec": {
      "display_name": "Python 3",
      "name": "python3"
    }
  },
  "cells": [
    {
      "cell_type": "markdown",
      "metadata": {
        "id": "view-in-github",
        "colab_type": "text"
      },
      "source": [
        "<a href=\"https://colab.research.google.com/github/matiusbetho/Project1/blob/main/MobileNet.ipynb\" target=\"_parent\"><img src=\"https://colab.research.google.com/assets/colab-badge.svg\" alt=\"Open In Colab\"/></a>"
      ]
    },
    {
      "cell_type": "code",
      "metadata": {
        "colab": {
          "base_uri": "https://localhost:8080/"
        },
        "id": "4bYURV3qKY9y",
        "outputId": "d25a3451-9b23-4dbc-a0f6-62419c07d08e"
      },
      "source": [
        "\n",
        "from google.colab import drive\n",
        "drive.mount('/content/drive')"
      ],
      "execution_count": 1,
      "outputs": [
        {
          "output_type": "stream",
          "text": [
            "Mounted at /content/drive\n"
          ],
          "name": "stdout"
        }
      ]
    },
    {
      "cell_type": "code",
      "metadata": {
        "colab": {
          "base_uri": "https://localhost:8080/"
        },
        "id": "5FMu7IWdLTJd",
        "outputId": "85bddccd-8e86-4372-a8a7-07a9b1c20282"
      },
      "source": [
        "cd /content/drive/My Drive/Tugas TL"
      ],
      "execution_count": 2,
      "outputs": [
        {
          "output_type": "stream",
          "text": [
            "/content/drive/My Drive/Tugas TL\n"
          ],
          "name": "stdout"
        }
      ]
    },
    {
      "cell_type": "code",
      "metadata": {
        "colab": {
          "base_uri": "https://localhost:8080/"
        },
        "id": "I2WqnftQS9V8",
        "outputId": "b8e3feb3-5ba5-4581-d3ac-bdee95d9d8bc"
      },
      "source": [
        "ls"
      ],
      "execution_count": 3,
      "outputs": [
        {
          "output_type": "stream",
          "text": [
            "best_weight_scene_mobileNet.h5  \u001b[0m\u001b[01;34mData_Daun\u001b[0m/  \u001b[01;34mDATASET\u001b[0m/  GMB4.jpg  \u001b[01;34mnnmodel_scene\u001b[0m/\n"
          ],
          "name": "stdout"
        }
      ]
    },
    {
      "cell_type": "code",
      "metadata": {
        "id": "n8mARki4LVK_"
      },
      "source": [
        "# import the necessary packages\n",
        "from keras.models import Sequential\n",
        "from keras.layers.convolutional import Conv2D\n",
        "from keras.layers.convolutional import MaxPooling2D\n",
        "from keras.layers.core import Activation\n",
        "from keras.layers.core import Flatten\n",
        "from keras.layers.core import Dense\n",
        "from keras.optimizers import Adam\n",
        "import cv2\n",
        "from sklearn.preprocessing import LabelBinarizer\n",
        "from sklearn.model_selection import train_test_split\n",
        "from sklearn.metrics import classification_report\n",
        "from PIL import Image\n",
        "from imutils import paths\n",
        "import numpy as np\n",
        "import os\n",
        "import matplotlib.image as mpimg\n",
        "from keras.preprocessing.image import ImageDataGenerator\n",
        "import tensorflow as tf\n",
        "from tensorflow.keras.preprocessing import image_dataset_from_directory\n",
        "import matplotlib.pyplot as plt\n",
        "from keras.applications.mobilenet import MobileNet\n",
        "from keras.callbacks import EarlyStopping, ModelCheckpoint\n",
        "from keras.models import Model\n",
        "from keras.layers import GlobalAveragePooling2D, BatchNormalization\n",
        "from keras.layers import Dropout"
      ],
      "execution_count": 6,
      "outputs": []
    },
    {
      "cell_type": "markdown",
      "metadata": {
        "id": "K5DLvi7GUdez"
      },
      "source": [
        "**Mengambil Lokasi DataSet**"
      ]
    },
    {
      "cell_type": "code",
      "metadata": {
        "id": "qh2ENrXwLYBN",
        "colab": {
          "base_uri": "https://localhost:8080/"
        },
        "outputId": "61f690f1-582c-4ecf-ec2a-3098b4740598"
      },
      "source": [
        "print(\"[INFO] loading images...\")\n",
        "imagePaths = paths.list_images('DATASET')\n",
        "data = []\n",
        "labels = []\n",
        "for imagePath in paths.list_images(\"DATASET\"):\n",
        "    print(imagePath)"
      ],
      "execution_count": 5,
      "outputs": [
        {
          "output_type": "stream",
          "text": [
            "[INFO] loading images...\n",
            "DATASET/GMB_02/IMG_20200814_133326_HDR.jpg\n",
            "DATASET/GMB_02/IMG_20200814_133401_HDR.jpg\n",
            "DATASET/GMB_02/IMG_20200814_133437_HDR.jpg\n",
            "DATASET/GMB_02/IMG_20200814_133506_HDR.jpg\n",
            "DATASET/GMB_02/IMG_20200814_133524_HDR.jpg\n",
            "DATASET/GMB_02/IMG_20200814_133555_HDR.jpg\n",
            "DATASET/GMB_02/IMG_20200815_203353.jpg\n",
            "DATASET/GMB_02/IMG_20200815_203410.jpg\n",
            "DATASET/GMB_02/IMG_20200815_203429.jpg\n",
            "DATASET/GMB_02/IMG_20200815_203452.jpg\n",
            "DATASET/GMB_02/IMG_20200815_203511.jpg\n",
            "DATASET/GMB_02/IMG_20200815_203527.jpg\n",
            "DATASET/GMB_02/IMG_20200815_203543.jpg\n",
            "DATASET/GMB_02/IMG_20200815_203603.jpg\n",
            "DATASET/GMB_02/IMG_20200815_203621.jpg\n",
            "DATASET/GMB_02/IMG_20200815_203635.jpg\n",
            "DATASET/GMB_02/IMG_20200815_203654.jpg\n",
            "DATASET/GMB_02/IMG_20200815_203711.jpg\n",
            "DATASET/GMB_02/IMG_20200815_203722.jpg\n",
            "DATASET/GMB_02/IMG_20200815_203735.jpg\n",
            "DATASET/GMB_02/IMG_20200815_203751.jpg\n",
            "DATASET/GMB_02/IMG_20200815_203835.jpg\n",
            "DATASET/GMB_02/IMG_20200815_203851.jpg\n",
            "DATASET/GMB_02/IMG_20200815_203910.jpg\n",
            "DATASET/GMB_02/IMG_20200815_203926.jpg\n",
            "DATASET/GMB_02/IMG_20200815_203943.jpg\n",
            "DATASET/GMB_02/IMG_20200815_203945.jpg\n",
            "DATASET/GMB_02/IMG_20200815_203959.jpg\n",
            "DATASET/GMB_02/IMG_20200815_204023.jpg\n",
            "DATASET/GMB_02/IMG_20200815_204041.jpg\n",
            "DATASET/GMB_02/IMG_20200815_204054.jpg\n",
            "DATASET/GMB_02/IMG_20200815_204056.jpg\n",
            "DATASET/GMB_02/IMG_20200827_201848.jpg\n",
            "DATASET/GMB_02/IMG_20200827_201909.jpg\n",
            "DATASET/GMB_02/IMG_20200827_201924.jpg\n",
            "DATASET/GMB_02/IMG_20200827_201938.jpg\n",
            "DATASET/GMB_02/IMG_20200827_201958.jpg\n",
            "DATASET/GMB_02/IMG_20200827_202015.jpg\n",
            "DATASET/GMB_02/IMG_20200827_202033.jpg\n",
            "DATASET/GMB_02/IMG_20200827_202057.jpg\n",
            "DATASET/GMB_02/IMG_20200827_202111.jpg\n",
            "DATASET/GMB_02/IMG_20200827_202123.jpg\n",
            "DATASET/GMB_02/IMG_20200827_202135.jpg\n",
            "DATASET/GMB_02/IMG_20200827_202149.jpg\n",
            "DATASET/GMB_02/IMG_20200827_202221.jpg\n",
            "DATASET/GMB_02/IMG_20200827_202237.jpg\n",
            "DATASET/GMB_02/IMG_20200827_202251.jpg\n",
            "DATASET/GMB_02/IMG_20200827_202305.jpg\n",
            "DATASET/GMB_02/IMG_20200827_202317.jpg\n",
            "DATASET/GMB_02/IMG_20200827_202328.jpg\n",
            "DATASET/GMB_02/IMG_20200827_202342.jpg\n",
            "DATASET/GMB_02/IMG_20200827_202353.jpg\n",
            "DATASET/GMB_02/IMG_20200827_202405.jpg\n",
            "DATASET/GMB_02/IMG_20200827_202417.jpg\n",
            "DATASET/GMB_02/IMG_20200827_202429.jpg\n",
            "DATASET/GMB_02/IMG_20200827_202449.jpg\n",
            "DATASET/GMB_02/IMG_20200827_202502.jpg\n",
            "DATASET/GMB_02/IMG_20200827_202514.jpg\n",
            "DATASET/GMB_02/IMG_20200827_202530.jpg\n",
            "DATASET/GMB_02/IMG_20200827_202541.jpg\n",
            "DATASET/GMB_02/IMG_20200827_202603.jpg\n",
            "DATASET/GMB_02/IMG_20200827_202619.jpg\n",
            "DATASET/GMB_02/IMG_20200917_132020.jpg\n",
            "DATASET/GMB_02/IMG_20200917_132259.jpg\n",
            "DATASET/GMB_02/IMG_20200917_132325.jpg\n",
            "DATASET/GMB_02/IMG_20200917_132641.jpg\n",
            "DATASET/GMB_02/IMG_20200917_132702.jpg\n",
            "DATASET/GMB_02/IMG_20200917_132722.jpg\n",
            "DATASET/GMB_02/IMG_20200917_132743.jpg\n",
            "DATASET/GMB_02/IMG_20200917_132808.jpg\n",
            "DATASET/GMB_02/IMG_20200917_132830.jpg\n",
            "DATASET/GMB_02/IMG_20200917_132849.jpg\n",
            "DATASET/GMB_02/IMG_20200917_132931.jpg\n",
            "DATASET/GMB_02/IMG_20200917_132949.jpg\n",
            "DATASET/GMB_02/IMG_20200917_133009.jpg\n",
            "DATASET/GMB_02/IMG_20200917_133028.jpg\n",
            "DATASET/GMB_02/IMG_20200917_133046.jpg\n",
            "DATASET/GMB_02/IMG_20200917_133104.jpg\n",
            "DATASET/GMB_02/IMG_20200917_133123.jpg\n",
            "DATASET/GMB_02/IMG_20200917_133139.jpg\n",
            "DATASET/GMB_02/IMG_20200917_133200.jpg\n",
            "DATASET/GMB_02/IMG_20200917_133235.jpg\n",
            "DATASET/GMB_02/IMG_20200917_133251.jpg\n",
            "DATASET/GMB_02/IMG_20200917_133309.jpg\n",
            "DATASET/GMB_02/IMG_20200917_133327.jpg\n",
            "DATASET/GMB_02/IMG_20200917_133344.jpg\n",
            "DATASET/GMB_02/IMG_20200917_133406.jpg\n",
            "DATASET/GMB_02/IMG_20200917_133424.jpg\n",
            "DATASET/GMB_02/IMG_20200917_133445.jpg\n",
            "DATASET/GMB_02/IMG_20200917_133505.jpg\n",
            "DATASET/GMB_02/IMG_20200917_133523.jpg\n",
            "DATASET/GMB_02/IMG_20200917_133544.jpg\n",
            "DATASET/GMB_02/IMG_20200917_133602.jpg\n",
            "DATASET/GMB_02/IMG_20200917_133620.jpg\n",
            "DATASET/GMB_02/IMG_20200917_133639.jpg\n",
            "DATASET/GMB_02/IMG_20200917_133700.jpg\n",
            "DATASET/GMB_02/IMG_20200917_133716.jpg\n",
            "DATASET/GMB_02/IMG_20200917_133734.jpg\n",
            "DATASET/GMB_02/IMG_20200917_133751.jpg\n",
            "DATASET/GMB_02/IMG_20200917_133808.jpg\n",
            "DATASET/GMB_02/IMG_20200917_133843.jpg\n",
            "DATASET/GMB_02/IMG_20200917_133900.jpg\n",
            "DATASET/GMB_02/IMG_20200917_133920.jpg\n",
            "DATASET/GMB_02/IMG_20200917_133937.jpg\n",
            "DATASET/GMB_02/IMG_20200917_133956.jpg\n",
            "DATASET/GMB_02/IMG_20200917_134019.jpg\n",
            "DATASET/GMB_02/IMG_20200917_134036.jpg\n",
            "DATASET/GMB_02/IMG_20200917_134057.jpg\n",
            "DATASET/GMB_02/IMG_20200917_134116.jpg\n",
            "DATASET/GMB_02/IMG_20200917_134134.jpg\n",
            "DATASET/GMB_02/IMG_20200917_134156.jpg\n",
            "DATASET/GMB_02/IMG_20200917_134212.jpg\n",
            "DATASET/GMB_02/IMG_20200917_134228.jpg\n",
            "DATASET/GMB_05/IMG_20200814_121915_HDR.jpg\n",
            "DATASET/GMB_05/IMG_20200814_121948_HDR.jpg\n",
            "DATASET/GMB_05/IMG_20200814_122028_HDR.jpg\n",
            "DATASET/GMB_05/IMG_20200814_122035_HDR.jpg\n",
            "DATASET/GMB_05/IMG_20200814_122109_HDR.jpg\n",
            "DATASET/GMB_05/IMG_20200814_122202_HDR.jpg\n",
            "DATASET/GMB_05/IMG_20200814_122221_HDR.jpg\n",
            "DATASET/GMB_05/IMG_20200814_122310_HDR.jpg\n",
            "DATASET/GMB_05/IMG_20200814_122345_HDR.jpg\n",
            "DATASET/GMB_05/IMG_20200814_122414_HDR.jpg\n",
            "DATASET/GMB_05/IMG_20200814_122453_HDR.jpg\n",
            "DATASET/GMB_05/IMG_20200814_122457_HDR.jpg\n",
            "DATASET/GMB_05/IMG_20200814_122525_HDR.jpg\n",
            "DATASET/GMB_05/IMG_20200814_122624_HDR.jpg\n",
            "DATASET/GMB_05/IMG_20200814_122628_HDR.jpg\n",
            "DATASET/GMB_05/IMG_20200814_122653_HDR.jpg\n",
            "DATASET/GMB_05/IMG_20200814_122725_HDR.jpg\n",
            "DATASET/GMB_05/IMG_20200814_122747_HDR.jpg\n",
            "DATASET/GMB_05/IMG_20200814_122752_HDR.jpg\n",
            "DATASET/GMB_05/IMG_20200814_122830_HDR.jpg\n",
            "DATASET/GMB_05/IMG_20200814_122907_HDR.jpg\n",
            "DATASET/GMB_05/IMG_20200814_122914_HDR.jpg\n",
            "DATASET/GMB_05/IMG_20200814_122946_HDR.jpg\n",
            "DATASET/GMB_05/IMG_20200814_123032_HDR.jpg\n",
            "DATASET/GMB_05/IMG_20200814_123038_HDR.jpg\n",
            "DATASET/GMB_05/IMG_20200814_123110_HDR.jpg\n",
            "DATASET/GMB_05/IMG_20200814_123135_HDR.jpg\n",
            "DATASET/GMB_05/IMG_20200814_123203_HDR.jpg\n",
            "DATASET/GMB_05/IMG_20200814_123229_HDR.jpg\n",
            "DATASET/GMB_05/IMG_20200814_123256_HDR.jpg\n",
            "DATASET/GMB_05/IMG_20200814_123317_HDR.jpg\n",
            "DATASET/GMB_05/IMG_20200814_123323_HDR.jpg\n",
            "DATASET/GMB_05/IMG_20200814_123348_HDR.jpg\n",
            "DATASET/GMB_05/IMG_20200814_123411_HDR.jpg\n",
            "DATASET/GMB_05/IMG_20200814_123435_HDR.jpg\n",
            "DATASET/GMB_05/IMG_20200814_123508_HDR.jpg\n",
            "DATASET/GMB_05/IMG_20200814_123513_HDR.jpg\n",
            "DATASET/GMB_05/IMG_20200814_123551_HDR.jpg\n",
            "DATASET/GMB_05/IMG_20200814_123628_HDR.jpg\n",
            "DATASET/GMB_05/IMG_20200827_204507.jpg\n",
            "DATASET/GMB_05/IMG_20200827_204524.jpg\n",
            "DATASET/GMB_05/IMG_20200827_204537.jpg\n",
            "DATASET/GMB_05/IMG_20200827_204547.jpg\n",
            "DATASET/GMB_05/IMG_20200827_204603.jpg\n",
            "DATASET/GMB_05/IMG_20200827_204620.jpg\n",
            "DATASET/GMB_05/IMG_20200827_204631.jpg\n",
            "DATASET/GMB_05/IMG_20200827_204642.jpg\n",
            "DATASET/GMB_05/IMG_20200827_204658.jpg\n",
            "DATASET/GMB_05/IMG_20200827_204710.jpg\n",
            "DATASET/GMB_05/IMG_20200827_204720.jpg\n",
            "DATASET/GMB_05/IMG_20200827_204731.jpg\n",
            "DATASET/GMB_05/IMG_20200827_204741.jpg\n",
            "DATASET/GMB_05/IMG_20200827_204753.jpg\n",
            "DATASET/GMB_05/IMG_20200827_204805.jpg\n",
            "DATASET/GMB_05/IMG_20200827_204818.jpg\n",
            "DATASET/GMB_05/IMG_20200827_204831.jpg\n",
            "DATASET/GMB_05/IMG_20200827_204841.jpg\n",
            "DATASET/GMB_05/IMG_20200827_204850.jpg\n",
            "DATASET/GMB_05/IMG_20200827_204901.jpg\n",
            "DATASET/GMB_05/IMG_20200827_204914.jpg\n",
            "DATASET/GMB_05/IMG_20200827_204924.jpg\n",
            "DATASET/GMB_05/IMG_20200827_204946.jpg\n",
            "DATASET/GMB_05/IMG_20200827_204958.jpg\n",
            "DATASET/GMB_05/IMG_20200827_205011.jpg\n",
            "DATASET/GMB_05/IMG_20200827_205021.jpg\n",
            "DATASET/GMB_05/IMG_20200827_205032.jpg\n",
            "DATASET/GMB_05/IMG_20200827_205047.jpg\n",
            "DATASET/GMB_05/IMG_20200827_205100.jpg\n",
            "DATASET/GMB_05/IMG_20200827_205113.jpg\n",
            "DATASET/GMB_05/IMG_20200827_205126.jpg\n",
            "DATASET/GMB_05/IMG_20200917_142356.jpg\n",
            "DATASET/GMB_05/IMG_20200917_142426.jpg\n",
            "DATASET/GMB_05/IMG_20200917_142444.jpg\n",
            "DATASET/GMB_05/IMG_20200917_142502.jpg\n",
            "DATASET/GMB_05/IMG_20200917_142519.jpg\n",
            "DATASET/GMB_05/IMG_20200917_142535.jpg\n",
            "DATASET/GMB_05/IMG_20200917_142551.jpg\n",
            "DATASET/GMB_05/IMG_20200917_142609.jpg\n",
            "DATASET/GMB_05/IMG_20200917_142628.jpg\n",
            "DATASET/GMB_05/IMG_20200917_142645.jpg\n",
            "DATASET/GMB_05/IMG_20200917_142702.jpg\n",
            "DATASET/GMB_05/IMG_20200917_142727.jpg\n",
            "DATASET/GMB_05/IMG_20200917_142744.jpg\n",
            "DATASET/GMB_05/IMG_20200917_142803.jpg\n",
            "DATASET/GMB_05/IMG_20200917_142821.jpg\n",
            "DATASET/GMB_05/IMG_20200917_142840.jpg\n",
            "DATASET/GMB_05/IMG_20200917_142857.jpg\n",
            "DATASET/GMB_05/IMG_20200917_142913.jpg\n",
            "DATASET/GMB_05/IMG_20200917_142935.jpg\n",
            "DATASET/GMB_05/IMG_20200917_142953.jpg\n",
            "DATASET/GMB_05/IMG_20200917_143012.jpg\n",
            "DATASET/GMB_05/IMG_20200917_143030.jpg\n",
            "DATASET/GMB_05/IMG_20200917_143050.jpg\n",
            "DATASET/GMB_05/IMG_20200917_143111.jpg\n",
            "DATASET/GMB_05/IMG_20200917_143128.jpg\n",
            "DATASET/GMB_05/IMG_20200917_143145.jpg\n",
            "DATASET/GMB_05/IMG_20200917_143212.jpg\n",
            "DATASET/GMB_05/IMG_20200917_143232.jpg\n",
            "DATASET/GMB_05/IMG_20200917_143251.jpg\n",
            "DATASET/GMB_05/IMG_20200917_143308.jpg\n",
            "DATASET/GMB_05/IMG_20200917_143332.jpg\n",
            "DATASET/GMB_05/IMG_20200917_143351.jpg\n",
            "DATASET/GMB_05/IMG_20200917_143415.jpg\n",
            "DATASET/GMB_05/IMG_20200917_143435.jpg\n",
            "DATASET/GMB_05/IMG_20200917_143455.jpg\n",
            "DATASET/GMB_05/IMG_20200917_143517.jpg\n",
            "DATASET/GMB_05/IMG_20200917_143547.jpg\n",
            "DATASET/GMB_05/IMG_20200917_143605.jpg\n",
            "DATASET/GMB_05/IMG_20200917_143626.jpg\n",
            "DATASET/GMB_05/IMG_20200917_143650.jpg\n",
            "DATASET/GMB_05/IMG_20200917_143709.jpg\n",
            "DATASET/GMB_05/IMG_20200917_143729.jpg\n",
            "DATASET/GMB_05/IMG_20200917_143749.jpg\n",
            "DATASET/GMB_05/IMG_20200917_143815.jpg\n",
            "DATASET/GMB_05/IMG_20200917_143836.jpg\n",
            "DATASET/GMB_05/IMG_20200917_143854.jpg\n",
            "DATASET/GMB_05/IMG_20200917_143923.jpg\n",
            "DATASET/GMB_05/IMG_20200917_143945.jpg\n",
            "DATASET/GMB_05/IMG_20200917_144008.jpg\n",
            "DATASET/GMB_05/IMG_20200917_144031.jpg\n",
            "DATASET/GMB_05/IMG_20200917_144052.jpg\n",
            "DATASET/GMB_03/IMG_20200814_130839_HDR.jpg\n",
            "DATASET/GMB_03/IMG_20200814_131007_HDR.jpg\n",
            "DATASET/GMB_03/IMG_20200814_131106_HDR.jpg\n",
            "DATASET/GMB_03/IMG_20200814_131242_HDR.jpg\n",
            "DATASET/GMB_03/IMG_20200814_131440_HDR.jpg\n",
            "DATASET/GMB_03/IMG_20200815_204903.jpg\n",
            "DATASET/GMB_03/IMG_20200815_204924.jpg\n",
            "DATASET/GMB_03/IMG_20200815_204953.jpg\n",
            "DATASET/GMB_03/IMG_20200815_205006.jpg\n",
            "DATASET/GMB_03/IMG_20200815_205048.jpg\n",
            "DATASET/GMB_03/IMG_20200815_205108.jpg\n",
            "DATASET/GMB_03/IMG_20200815_205129.jpg\n",
            "DATASET/GMB_03/IMG_20200815_205134.jpg\n",
            "DATASET/GMB_03/IMG_20200815_205143.jpg\n",
            "DATASET/GMB_03/IMG_20200815_205156.jpg\n",
            "DATASET/GMB_03/IMG_20200815_205219.jpg\n",
            "DATASET/GMB_03/IMG_20200815_205227.jpg\n",
            "DATASET/GMB_03/IMG_20200815_205235.jpg\n",
            "DATASET/GMB_03/IMG_20200815_205251.jpg\n",
            "DATASET/GMB_03/IMG_20200815_205304.jpg\n",
            "DATASET/GMB_03/IMG_20200815_205335.jpg\n",
            "DATASET/GMB_03/IMG_20200815_205336.jpg\n",
            "DATASET/GMB_03/IMG_20200815_205352.jpg\n",
            "DATASET/GMB_03/IMG_20200815_205402.jpg\n",
            "DATASET/GMB_03/IMG_20200815_205413.jpg\n",
            "DATASET/GMB_03/IMG_20200815_205424.jpg\n",
            "DATASET/GMB_03/IMG_20200815_205434.jpg\n",
            "DATASET/GMB_03/IMG_20200815_205445.jpg\n",
            "DATASET/GMB_03/IMG_20200815_205453.jpg\n",
            "DATASET/GMB_03/IMG_20200827_202715.jpg\n",
            "DATASET/GMB_03/IMG_20200827_202728.jpg\n",
            "DATASET/GMB_03/IMG_20200827_202739.jpg\n",
            "DATASET/GMB_03/IMG_20200827_202754.jpg\n",
            "DATASET/GMB_03/IMG_20200827_202805.jpg\n",
            "DATASET/GMB_03/IMG_20200827_202818.jpg\n",
            "DATASET/GMB_03/IMG_20200827_202833.jpg\n",
            "DATASET/GMB_03/IMG_20200827_202851.jpg\n",
            "DATASET/GMB_03/IMG_20200827_202908.jpg\n",
            "DATASET/GMB_03/IMG_20200827_202930.jpg\n",
            "DATASET/GMB_03/IMG_20200827_202947.jpg\n",
            "DATASET/GMB_03/IMG_20200827_202958.jpg\n",
            "DATASET/GMB_03/IMG_20200827_203010.jpg\n",
            "DATASET/GMB_03/IMG_20200827_203022.jpg\n",
            "DATASET/GMB_03/IMG_20200827_203036.jpg\n",
            "DATASET/GMB_03/IMG_20200827_203048.jpg\n",
            "DATASET/GMB_03/IMG_20200827_203101.jpg\n",
            "DATASET/GMB_03/IMG_20200827_203111.jpg\n",
            "DATASET/GMB_03/IMG_20200827_203123.jpg\n",
            "DATASET/GMB_03/IMG_20200827_203135.jpg\n",
            "DATASET/GMB_03/IMG_20200827_203147.jpg\n",
            "DATASET/GMB_03/IMG_20200827_203204.jpg\n",
            "DATASET/GMB_03/IMG_20200827_203220.jpg\n",
            "DATASET/GMB_03/IMG_20200827_203235.jpg\n",
            "DATASET/GMB_03/IMG_20200827_203247.jpg\n",
            "DATASET/GMB_03/IMG_20200827_203308.jpg\n",
            "DATASET/GMB_03/IMG_20200827_203325.jpg\n",
            "DATASET/GMB_03/IMG_20200827_203338.jpg\n",
            "DATASET/GMB_03/IMG_20200827_203349.jpg\n",
            "DATASET/GMB_03/IMG_20200827_203401.jpg\n",
            "DATASET/GMB_03/IMG_20200827_203422.jpg\n",
            "DATASET/GMB_03/IMG_20200827_203439.jpg\n",
            "DATASET/GMB_03/IMG_20200917_134438.jpg\n",
            "DATASET/GMB_03/IMG_20200917_134456.jpg\n",
            "DATASET/GMB_03/IMG_20200917_134512.jpg\n",
            "DATASET/GMB_03/IMG_20200917_134532.jpg\n",
            "DATASET/GMB_03/IMG_20200917_134551.jpg\n",
            "DATASET/GMB_03/IMG_20200917_134608.jpg\n",
            "DATASET/GMB_03/IMG_20200917_134622.jpg\n",
            "DATASET/GMB_03/IMG_20200917_134637.jpg\n",
            "DATASET/GMB_03/IMG_20200917_134659.jpg\n",
            "DATASET/GMB_03/IMG_20200917_134717.jpg\n",
            "DATASET/GMB_03/IMG_20200917_134738.jpg\n",
            "DATASET/GMB_03/IMG_20200917_134755.jpg\n",
            "DATASET/GMB_03/IMG_20200917_134813.jpg\n",
            "DATASET/GMB_03/IMG_20200917_134843.jpg\n",
            "DATASET/GMB_03/IMG_20200917_134901.jpg\n",
            "DATASET/GMB_03/IMG_20200917_134928.jpg\n",
            "DATASET/GMB_03/IMG_20200917_134946.jpg\n",
            "DATASET/GMB_03/IMG_20200917_135006.jpg\n",
            "DATASET/GMB_03/IMG_20200917_135024.jpg\n",
            "DATASET/GMB_03/IMG_20200917_135045.jpg\n",
            "DATASET/GMB_03/IMG_20200917_135105.jpg\n",
            "DATASET/GMB_03/IMG_20200917_135123.jpg\n",
            "DATASET/GMB_03/IMG_20200917_135140.jpg\n",
            "DATASET/GMB_03/IMG_20200917_135156.jpg\n",
            "DATASET/GMB_03/IMG_20200917_135215.jpg\n",
            "DATASET/GMB_03/IMG_20200917_135233.jpg\n",
            "DATASET/GMB_03/IMG_20200917_135255.jpg\n",
            "DATASET/GMB_03/IMG_20200917_135314.jpg\n",
            "DATASET/GMB_03/IMG_20200917_135331.jpg\n",
            "DATASET/GMB_03/IMG_20200917_135349.jpg\n",
            "DATASET/GMB_03/IMG_20200917_135407.jpg\n",
            "DATASET/GMB_03/IMG_20200917_135425.jpg\n",
            "DATASET/GMB_03/IMG_20200917_135445.jpg\n",
            "DATASET/GMB_03/IMG_20200917_135501.jpg\n",
            "DATASET/GMB_03/IMG_20200917_135517.jpg\n",
            "DATASET/GMB_03/IMG_20200917_135532.jpg\n",
            "DATASET/GMB_03/IMG_20200917_135548.jpg\n",
            "DATASET/GMB_03/IMG_20200917_135607.jpg\n",
            "DATASET/GMB_03/IMG_20200917_135624.jpg\n",
            "DATASET/GMB_03/IMG_20200917_135641.jpg\n",
            "DATASET/GMB_03/IMG_20200917_135703.jpg\n",
            "DATASET/GMB_03/IMG_20200917_135721.jpg\n",
            "DATASET/GMB_03/IMG_20200917_135740.jpg\n",
            "DATASET/GMB_03/IMG_20200917_135800.jpg\n",
            "DATASET/GMB_03/IMG_20200917_135814.jpg\n",
            "DATASET/GMB_03/IMG_20200917_135832.jpg\n",
            "DATASET/GMB_03/IMG_20200917_135854.jpg\n",
            "DATASET/GMB_03/IMG_20200917_135916.jpg\n",
            "DATASET/GMB_03/IMG_20200917_135936.jpg\n",
            "DATASET/GMB_03/IMG_20200917_135953.jpg\n",
            "DATASET/GMB_03/IMG_20200917_140008.jpg\n",
            "DATASET/GMB_04/IMG_20200814_132822_HDR.jpg\n",
            "DATASET/GMB_04/IMG_20200814_132929_HDR.jpg\n",
            "DATASET/GMB_04/IMG_20200814_132956_HDR.jpg\n",
            "DATASET/GMB_04/IMG_20200814_133033_HDR.jpg\n",
            "DATASET/GMB_04/IMG_20200814_133119_HDR.jpg\n",
            "DATASET/GMB_04/IMG_20200815_193910_HDR.jpg\n",
            "DATASET/GMB_04/IMG_20200815_194040_HDR.jpg\n",
            "DATASET/GMB_04/IMG_20200815_194046_HDR.jpg\n",
            "DATASET/GMB_04/IMG_20200815_194119_HDR.jpg\n",
            "DATASET/GMB_04/IMG_20200815_194123_HDR.jpg\n",
            "DATASET/GMB_04/IMG_20200815_194230_HDR.jpg\n",
            "DATASET/GMB_04/IMG_20200815_194237_HDR.jpg\n",
            "DATASET/GMB_04/IMG_20200815_194315_HDR.jpg\n",
            "DATASET/GMB_04/IMG_20200815_194342_HDR.jpg\n",
            "DATASET/GMB_04/IMG_20200815_194436_HDR.jpg\n",
            "DATASET/GMB_04/IMG_20200815_194603_HDR.jpg\n",
            "DATASET/GMB_04/IMG_20200815_194628_HDR.jpg\n",
            "DATASET/GMB_04/IMG_20200815_194635_HDR.jpg\n",
            "DATASET/GMB_04/IMG_20200815_194702_HDR.jpg\n",
            "DATASET/GMB_04/IMG_20200815_194731_HDR.jpg\n",
            "DATASET/GMB_04/IMG_20200815_194809_HDR.jpg\n",
            "DATASET/GMB_04/IMG_20200815_194842_HDR.jpg\n",
            "DATASET/GMB_04/IMG_20200815_194913_HDR.jpg\n",
            "DATASET/GMB_04/IMG_20200815_194951_HDR.jpg\n",
            "DATASET/GMB_04/IMG_20200815_195035_HDR.jpg\n",
            "DATASET/GMB_04/IMG_20200815_195114_HDR.jpg\n",
            "DATASET/GMB_04/IMG_20200815_195153_HDR.jpg\n",
            "DATASET/GMB_04/IMG_20200815_195235_HDR.jpg\n",
            "DATASET/GMB_04/IMG_20200815_195410_HDR.jpg\n",
            "DATASET/GMB_04/IMG_20200815_195600_HDR.jpg\n",
            "DATASET/GMB_04/IMG_20200815_195606_HDR.jpg\n",
            "DATASET/GMB_04/IMG_20200815_195704_HDR.jpg\n",
            "DATASET/GMB_04/IMG_20200815_195708_HDR.jpg\n",
            "DATASET/GMB_04/IMG_20200815_195753_HDR.jpg\n",
            "DATASET/GMB_04/IMG_20200815_195831_HDR.jpg\n",
            "DATASET/GMB_04/IMG_20200815_195835_HDR.jpg\n",
            "DATASET/GMB_04/IMG_20200815_195901_HDR.jpg\n",
            "DATASET/GMB_04/IMG_20200815_195922_HDR.jpg\n",
            "DATASET/GMB_04/IMG_20200815_195941_HDR.jpg\n",
            "DATASET/GMB_04/IMG_20200815_195945_HDR.jpg\n",
            "DATASET/GMB_04/IMG_20200827_203559.jpg\n",
            "DATASET/GMB_04/IMG_20200827_203622.jpg\n",
            "DATASET/GMB_04/IMG_20200827_203634.jpg\n",
            "DATASET/GMB_04/IMG_20200827_203654.jpg\n",
            "DATASET/GMB_04/IMG_20200827_203712.jpg\n",
            "DATASET/GMB_04/IMG_20200827_203724.jpg\n",
            "DATASET/GMB_04/IMG_20200827_203740.jpg\n",
            "DATASET/GMB_04/IMG_20200827_203755.jpg\n",
            "DATASET/GMB_04/IMG_20200827_203809.jpg\n",
            "DATASET/GMB_04/IMG_20200827_203825.jpg\n",
            "DATASET/GMB_04/IMG_20200827_203848.jpg\n",
            "DATASET/GMB_04/IMG_20200827_203901.jpg\n",
            "DATASET/GMB_04/IMG_20200827_203918.jpg\n",
            "DATASET/GMB_04/IMG_20200827_203932.jpg\n",
            "DATASET/GMB_04/IMG_20200827_203944.jpg\n",
            "DATASET/GMB_04/IMG_20200827_203959.jpg\n",
            "DATASET/GMB_04/IMG_20200827_204016.jpg\n",
            "DATASET/GMB_04/IMG_20200827_204033.jpg\n",
            "DATASET/GMB_04/IMG_20200827_204048.jpg\n",
            "DATASET/GMB_04/IMG_20200827_204103.jpg\n",
            "DATASET/GMB_04/IMG_20200827_204114.jpg\n",
            "DATASET/GMB_04/IMG_20200827_204125.jpg\n",
            "DATASET/GMB_04/IMG_20200827_204144.jpg\n",
            "DATASET/GMB_04/IMG_20200827_204159.jpg\n",
            "DATASET/GMB_04/IMG_20200827_204226.jpg\n",
            "DATASET/GMB_04/IMG_20200827_204239.jpg\n",
            "DATASET/GMB_04/IMG_20200827_204256.jpg\n",
            "DATASET/GMB_04/IMG_20200827_204313.jpg\n",
            "DATASET/GMB_04/IMG_20200827_204332.jpg\n",
            "DATASET/GMB_04/IMG_20200827_204348.jpg\n",
            "DATASET/GMB_04/IMG_20200827_204403.jpg\n",
            "DATASET/GMB_04/IMG_20200917_140356.jpg\n",
            "DATASET/GMB_04/IMG_20200917_140411.jpg\n",
            "DATASET/GMB_04/IMG_20200917_140431.jpg\n",
            "DATASET/GMB_04/IMG_20200917_140448.jpg\n",
            "DATASET/GMB_04/IMG_20200917_140505.jpg\n",
            "DATASET/GMB_04/IMG_20200917_140520.jpg\n",
            "DATASET/GMB_04/IMG_20200917_140537.jpg\n",
            "DATASET/GMB_04/IMG_20200917_140552.jpg\n",
            "DATASET/GMB_04/IMG_20200917_140608.jpg\n",
            "DATASET/GMB_04/IMG_20200917_140624.jpg\n",
            "DATASET/GMB_04/IMG_20200917_140640.jpg\n",
            "DATASET/GMB_04/IMG_20200917_140656.jpg\n",
            "DATASET/GMB_04/IMG_20200917_140730.jpg\n",
            "DATASET/GMB_04/IMG_20200917_140751.jpg\n",
            "DATASET/GMB_04/IMG_20200917_140903.jpg\n",
            "DATASET/GMB_04/IMG_20200917_141042.jpg\n",
            "DATASET/GMB_04/IMG_20200917_141126.jpg\n",
            "DATASET/GMB_04/IMG_20200917_141140.jpg\n",
            "DATASET/GMB_04/IMG_20200917_141156.jpg\n",
            "DATASET/GMB_04/IMG_20200917_141212.jpg\n",
            "DATASET/GMB_04/IMG_20200917_141225.jpg\n",
            "DATASET/GMB_04/IMG_20200917_141237.jpg\n",
            "DATASET/GMB_04/IMG_20200917_141251.jpg\n",
            "DATASET/GMB_04/IMG_20200917_141316.jpg\n",
            "DATASET/GMB_04/IMG_20200917_141332.jpg\n",
            "DATASET/GMB_04/IMG_20200917_141348.jpg\n",
            "DATASET/GMB_04/IMG_20200917_141404.jpg\n",
            "DATASET/GMB_04/IMG_20200917_141416.jpg\n",
            "DATASET/GMB_04/IMG_20200917_141431.jpg\n",
            "DATASET/GMB_04/IMG_20200917_141444.jpg\n",
            "DATASET/GMB_04/IMG_20200917_141456.jpg\n",
            "DATASET/GMB_04/IMG_20200917_141509.jpg\n",
            "DATASET/GMB_04/IMG_20200917_141527.jpg\n",
            "DATASET/GMB_04/IMG_20200917_141540.jpg\n",
            "DATASET/GMB_04/IMG_20200917_141553.jpg\n",
            "DATASET/GMB_04/IMG_20200917_141606.jpg\n",
            "DATASET/GMB_04/IMG_20200917_141622.jpg\n",
            "DATASET/GMB_04/IMG_20200917_141637.jpg\n",
            "DATASET/GMB_04/IMG_20200917_141649.jpg\n",
            "DATASET/GMB_04/IMG_20200917_141702.jpg\n",
            "DATASET/GMB_04/IMG_20200917_141715.jpg\n",
            "DATASET/GMB_04/IMG_20200917_141727.jpg\n",
            "DATASET/GMB_04/IMG_20200917_141739.jpg\n",
            "DATASET/GMB_04/IMG_20200917_141751.jpg\n",
            "DATASET/GMB_04/IMG_20200917_141802.jpg\n",
            "DATASET/GMB_04/IMG_20200917_141815.jpg\n",
            "DATASET/GMB_04/IMG_20200917_141826.jpg\n",
            "DATASET/GMB_04/IMG_20200917_141838.jpg\n",
            "DATASET/GMB_04/IMG_20200917_141850.jpg\n",
            "DATASET/GMB_04/IMG_20200917_141901.jpg\n",
            "DATASET/GMB_04/IMG_20200917_141914.jpg\n",
            "DATASET/GMB_01/IMG_20200814_132059_HDR.jpg\n",
            "DATASET/GMB_01/IMG_20200814_132225_HDR.jpg\n",
            "DATASET/GMB_01/IMG_20200814_132228_HDR.jpg\n",
            "DATASET/GMB_01/IMG_20200814_132309_HDR.jpg\n",
            "DATASET/GMB_01/IMG_20200814_132349_HDR.jpg\n",
            "DATASET/GMB_01/IMG_20200814_132426_HDR.jpg\n",
            "DATASET/GMB_01/IMG_20200814_132501_HDR.jpg\n",
            "DATASET/GMB_01/IMG_20200815_201145_HDR.jpg\n",
            "DATASET/GMB_01/IMG_20200815_201222_HDR.jpg\n",
            "DATASET/GMB_01/IMG_20200815_201238_HDR.jpg\n",
            "DATASET/GMB_01/IMG_20200815_201252_HDR.jpg\n",
            "DATASET/GMB_01/IMG_20200815_201326_HDR.jpg\n",
            "DATASET/GMB_01/IMG_20200815_201404_HDR.jpg\n",
            "DATASET/GMB_01/IMG_20200815_201436_HDR.jpg\n",
            "DATASET/GMB_01/IMG_20200815_201440_HDR.jpg\n",
            "DATASET/GMB_01/IMG_20200815_201522_HDR.jpg\n",
            "DATASET/GMB_01/IMG_20200815_201548_HDR.jpg\n",
            "DATASET/GMB_01/IMG_20200815_201602_HDR.jpg\n",
            "DATASET/GMB_01/IMG_20200815_201618_HDR.jpg\n",
            "DATASET/GMB_01/IMG_20200815_201642_HDR.jpg\n",
            "DATASET/GMB_01/IMG_20200815_201700_HDR.jpg\n",
            "DATASET/GMB_01/IMG_20200815_201716_HDR.jpg\n",
            "DATASET/GMB_01/IMG_20200815_201730_HDR.jpg\n",
            "DATASET/GMB_01/IMG_20200815_201756_HDR.jpg\n",
            "DATASET/GMB_01/IMG_20200815_201810_HDR.jpg\n",
            "DATASET/GMB_01/IMG_20200815_201831_HDR.jpg\n",
            "DATASET/GMB_01/IMG_20200815_201851_HDR.jpg\n",
            "DATASET/GMB_01/IMG_20200815_201909_HDR.jpg\n",
            "DATASET/GMB_01/IMG_20200815_201943_HDR.jpg\n",
            "DATASET/GMB_01/IMG_20200815_201951_HDR.jpg\n",
            "DATASET/GMB_01/IMG_20200815_202026_HDR.jpg\n",
            "DATASET/GMB_01/IMG_20200827_200619.jpg\n",
            "DATASET/GMB_01/IMG_20200827_200659.jpg\n",
            "DATASET/GMB_01/IMG_20200827_200730.jpg\n",
            "DATASET/GMB_01/IMG_20200827_200751.jpg\n",
            "DATASET/GMB_01/IMG_20200827_200820.jpg\n",
            "DATASET/GMB_01/IMG_20200827_200834.jpg\n",
            "DATASET/GMB_01/IMG_20200827_200904.jpg\n",
            "DATASET/GMB_01/IMG_20200827_200946.jpg\n",
            "DATASET/GMB_01/IMG_20200827_201006.jpg\n",
            "DATASET/GMB_01/IMG_20200827_201053.jpg\n",
            "DATASET/GMB_01/IMG_20200827_201126.jpg\n",
            "DATASET/GMB_01/IMG_20200827_201145.jpg\n",
            "DATASET/GMB_01/IMG_20200827_201203.jpg\n",
            "DATASET/GMB_01/IMG_20200827_201223.jpg\n",
            "DATASET/GMB_01/IMG_20200827_201242.jpg\n",
            "DATASET/GMB_01/IMG_20200827_201258.jpg\n",
            "DATASET/GMB_01/IMG_20200827_201313.jpg\n",
            "DATASET/GMB_01/IMG_20200827_201329.jpg\n",
            "DATASET/GMB_01/IMG_20200827_201344.jpg\n",
            "DATASET/GMB_01/IMG_20200827_201413.jpg\n",
            "DATASET/GMB_01/IMG_20200827_201426.jpg\n",
            "DATASET/GMB_01/IMG_20200827_201443.jpg\n",
            "DATASET/GMB_01/IMG_20200827_201456.jpg\n",
            "DATASET/GMB_01/IMG_20200827_201507.jpg\n",
            "DATASET/GMB_01/IMG_20200827_201532.jpg\n",
            "DATASET/GMB_01/IMG_20200827_201545.jpg\n",
            "DATASET/GMB_01/IMG_20200827_201605.jpg\n",
            "DATASET/GMB_01/IMG_20200827_201640.jpg\n",
            "DATASET/GMB_01/IMG_20200827_201654.jpg\n",
            "DATASET/GMB_01/IMG_20200827_201710.jpg\n",
            "DATASET/GMB_01/IMG_20200827_201725.jpg\n",
            "DATASET/GMB_01/IMG_20200917_125554.jpg\n",
            "DATASET/GMB_01/IMG_20200917_125628.jpg\n",
            "DATASET/GMB_01/IMG_20200917_125651.jpg\n",
            "DATASET/GMB_01/IMG_20200917_125713.jpg\n",
            "DATASET/GMB_01/IMG_20200917_125739.jpg\n",
            "DATASET/GMB_01/IMG_20200917_125814.jpg\n",
            "DATASET/GMB_01/IMG_20200917_125923.jpg\n",
            "DATASET/GMB_01/IMG_20200917_125945.jpg\n",
            "DATASET/GMB_01/IMG_20200917_130008.jpg\n",
            "DATASET/GMB_01/IMG_20200917_130034.jpg\n",
            "DATASET/GMB_01/IMG_20200917_130056.jpg\n",
            "DATASET/GMB_01/IMG_20200917_130118.jpg\n",
            "DATASET/GMB_01/IMG_20200917_130139.jpg\n",
            "DATASET/GMB_01/IMG_20200917_130159.jpg\n",
            "DATASET/GMB_01/IMG_20200917_130219.jpg\n",
            "DATASET/GMB_01/IMG_20200917_130241.jpg\n",
            "DATASET/GMB_01/IMG_20200917_130303.jpg\n",
            "DATASET/GMB_01/IMG_20200917_130325.jpg\n",
            "DATASET/GMB_01/IMG_20200917_130348.jpg\n",
            "DATASET/GMB_01/IMG_20200917_130407.jpg\n",
            "DATASET/GMB_01/IMG_20200917_130426.jpg\n",
            "DATASET/GMB_01/IMG_20200917_130453.jpg\n",
            "DATASET/GMB_01/IMG_20200917_130513.jpg\n",
            "DATASET/GMB_01/IMG_20200917_130533.jpg\n",
            "DATASET/GMB_01/IMG_20200917_130552.jpg\n",
            "DATASET/GMB_01/IMG_20200917_130609.jpg\n",
            "DATASET/GMB_01/IMG_20200917_130958.jpg\n",
            "DATASET/GMB_01/IMG_20200917_131033.jpg\n",
            "DATASET/GMB_01/IMG_20200917_131102.jpg\n",
            "DATASET/GMB_01/IMG_20200917_131125.jpg\n",
            "DATASET/GMB_01/IMG_20200917_131149.jpg\n",
            "DATASET/GMB_01/IMG_20200917_131209.jpg\n",
            "DATASET/GMB_01/IMG_20200917_131231.jpg\n",
            "DATASET/GMB_01/IMG_20200917_131302.jpg\n",
            "DATASET/GMB_01/IMG_20200917_131322.jpg\n",
            "DATASET/GMB_01/IMG_20200917_131347.jpg\n",
            "DATASET/GMB_01/IMG_20200917_131406.jpg\n",
            "DATASET/GMB_01/IMG_20200917_131426.jpg\n",
            "DATASET/GMB_01/IMG_20200917_131447.jpg\n",
            "DATASET/GMB_01/IMG_20200917_131508.jpg\n",
            "DATASET/GMB_01/IMG_20200917_131528.jpg\n",
            "DATASET/GMB_01/IMG_20200917_131547.jpg\n",
            "DATASET/GMB_01/IMG_20200917_131608.jpg\n",
            "DATASET/GMB_01/IMG_20200917_131631.jpg\n",
            "DATASET/GMB_01/IMG_20200917_131651.jpg\n",
            "DATASET/GMB_01/IMG_20200917_131708.jpg\n",
            "DATASET/GMB_01/IMG_20200917_131728.jpg\n",
            "DATASET/GMB_01/IMG_20200917_131748.jpg\n",
            "DATASET/GMB_01/IMG_20200917_131803.jpg\n",
            "DATASET/GMB_01/IMG_20200917_131823.jpg\n"
          ],
          "name": "stdout"
        }
      ]
    },
    {
      "cell_type": "markdown",
      "metadata": {
        "id": "Udy9A9IJcqfd"
      },
      "source": [
        "**Mengubah Ukuran**"
      ]
    },
    {
      "cell_type": "code",
      "metadata": {
        "id": "Cch_E2CvSPf3"
      },
      "source": [
        "# loop over our input images\n",
        "for imagePath in imagePaths:\n",
        "\t# load the input image from disk, resize it to 64x64 pixels, scale\n",
        "\t# the pixel intensities to the range [0, 1], and then update our\n",
        "\t# images list\n",
        "\timage = Image.open(imagePath)\n",
        "\timage = np.array(image.resize((224, 224))) / 255.0\n",
        "\tdata.append(image)\n",
        "\t# extract the class label from the file path and update the\n",
        "\t# labels list\n",
        "\tlabel = imagePath.split(os.path.sep)[-2]\n",
        "\tlabels.append(label)\n"
      ],
      "execution_count": 7,
      "outputs": []
    },
    {
      "cell_type": "code",
      "metadata": {
        "colab": {
          "base_uri": "https://localhost:8080/"
        },
        "id": "9UJvgN5iltYT",
        "outputId": "d361bb56-40e5-4f6e-e61c-c92cc149ea31"
      },
      "source": [
        "print(labels)\n"
      ],
      "execution_count": 8,
      "outputs": [
        {
          "output_type": "stream",
          "text": [
            "['GMB_02', 'GMB_02', 'GMB_02', 'GMB_02', 'GMB_02', 'GMB_02', 'GMB_02', 'GMB_02', 'GMB_02', 'GMB_02', 'GMB_02', 'GMB_02', 'GMB_02', 'GMB_02', 'GMB_02', 'GMB_02', 'GMB_02', 'GMB_02', 'GMB_02', 'GMB_02', 'GMB_02', 'GMB_02', 'GMB_02', 'GMB_02', 'GMB_02', 'GMB_02', 'GMB_02', 'GMB_02', 'GMB_02', 'GMB_02', 'GMB_02', 'GMB_02', 'GMB_02', 'GMB_02', 'GMB_02', 'GMB_02', 'GMB_02', 'GMB_02', 'GMB_02', 'GMB_02', 'GMB_02', 'GMB_02', 'GMB_02', 'GMB_02', 'GMB_02', 'GMB_02', 'GMB_02', 'GMB_02', 'GMB_02', 'GMB_02', 'GMB_02', 'GMB_02', 'GMB_02', 'GMB_02', 'GMB_02', 'GMB_02', 'GMB_02', 'GMB_02', 'GMB_02', 'GMB_02', 'GMB_02', 'GMB_02', 'GMB_02', 'GMB_02', 'GMB_02', 'GMB_02', 'GMB_02', 'GMB_02', 'GMB_02', 'GMB_02', 'GMB_02', 'GMB_02', 'GMB_02', 'GMB_02', 'GMB_02', 'GMB_02', 'GMB_02', 'GMB_02', 'GMB_02', 'GMB_02', 'GMB_02', 'GMB_02', 'GMB_02', 'GMB_02', 'GMB_02', 'GMB_02', 'GMB_02', 'GMB_02', 'GMB_02', 'GMB_02', 'GMB_02', 'GMB_02', 'GMB_02', 'GMB_02', 'GMB_02', 'GMB_02', 'GMB_02', 'GMB_02', 'GMB_02', 'GMB_02', 'GMB_02', 'GMB_02', 'GMB_02', 'GMB_02', 'GMB_02', 'GMB_02', 'GMB_02', 'GMB_02', 'GMB_02', 'GMB_02', 'GMB_02', 'GMB_02', 'GMB_02', 'GMB_05', 'GMB_05', 'GMB_05', 'GMB_05', 'GMB_05', 'GMB_05', 'GMB_05', 'GMB_05', 'GMB_05', 'GMB_05', 'GMB_05', 'GMB_05', 'GMB_05', 'GMB_05', 'GMB_05', 'GMB_05', 'GMB_05', 'GMB_05', 'GMB_05', 'GMB_05', 'GMB_05', 'GMB_05', 'GMB_05', 'GMB_05', 'GMB_05', 'GMB_05', 'GMB_05', 'GMB_05', 'GMB_05', 'GMB_05', 'GMB_05', 'GMB_05', 'GMB_05', 'GMB_05', 'GMB_05', 'GMB_05', 'GMB_05', 'GMB_05', 'GMB_05', 'GMB_05', 'GMB_05', 'GMB_05', 'GMB_05', 'GMB_05', 'GMB_05', 'GMB_05', 'GMB_05', 'GMB_05', 'GMB_05', 'GMB_05', 'GMB_05', 'GMB_05', 'GMB_05', 'GMB_05', 'GMB_05', 'GMB_05', 'GMB_05', 'GMB_05', 'GMB_05', 'GMB_05', 'GMB_05', 'GMB_05', 'GMB_05', 'GMB_05', 'GMB_05', 'GMB_05', 'GMB_05', 'GMB_05', 'GMB_05', 'GMB_05', 'GMB_05', 'GMB_05', 'GMB_05', 'GMB_05', 'GMB_05', 'GMB_05', 'GMB_05', 'GMB_05', 'GMB_05', 'GMB_05', 'GMB_05', 'GMB_05', 'GMB_05', 'GMB_05', 'GMB_05', 'GMB_05', 'GMB_05', 'GMB_05', 'GMB_05', 'GMB_05', 'GMB_05', 'GMB_05', 'GMB_05', 'GMB_05', 'GMB_05', 'GMB_05', 'GMB_05', 'GMB_05', 'GMB_05', 'GMB_05', 'GMB_05', 'GMB_05', 'GMB_05', 'GMB_05', 'GMB_05', 'GMB_05', 'GMB_05', 'GMB_05', 'GMB_05', 'GMB_05', 'GMB_05', 'GMB_05', 'GMB_05', 'GMB_05', 'GMB_05', 'GMB_05', 'GMB_05', 'GMB_05', 'GMB_05', 'GMB_05', 'GMB_05', 'GMB_03', 'GMB_03', 'GMB_03', 'GMB_03', 'GMB_03', 'GMB_03', 'GMB_03', 'GMB_03', 'GMB_03', 'GMB_03', 'GMB_03', 'GMB_03', 'GMB_03', 'GMB_03', 'GMB_03', 'GMB_03', 'GMB_03', 'GMB_03', 'GMB_03', 'GMB_03', 'GMB_03', 'GMB_03', 'GMB_03', 'GMB_03', 'GMB_03', 'GMB_03', 'GMB_03', 'GMB_03', 'GMB_03', 'GMB_03', 'GMB_03', 'GMB_03', 'GMB_03', 'GMB_03', 'GMB_03', 'GMB_03', 'GMB_03', 'GMB_03', 'GMB_03', 'GMB_03', 'GMB_03', 'GMB_03', 'GMB_03', 'GMB_03', 'GMB_03', 'GMB_03', 'GMB_03', 'GMB_03', 'GMB_03', 'GMB_03', 'GMB_03', 'GMB_03', 'GMB_03', 'GMB_03', 'GMB_03', 'GMB_03', 'GMB_03', 'GMB_03', 'GMB_03', 'GMB_03', 'GMB_03', 'GMB_03', 'GMB_03', 'GMB_03', 'GMB_03', 'GMB_03', 'GMB_03', 'GMB_03', 'GMB_03', 'GMB_03', 'GMB_03', 'GMB_03', 'GMB_03', 'GMB_03', 'GMB_03', 'GMB_03', 'GMB_03', 'GMB_03', 'GMB_03', 'GMB_03', 'GMB_03', 'GMB_03', 'GMB_03', 'GMB_03', 'GMB_03', 'GMB_03', 'GMB_03', 'GMB_03', 'GMB_03', 'GMB_03', 'GMB_03', 'GMB_03', 'GMB_03', 'GMB_03', 'GMB_03', 'GMB_03', 'GMB_03', 'GMB_03', 'GMB_03', 'GMB_03', 'GMB_03', 'GMB_03', 'GMB_03', 'GMB_03', 'GMB_03', 'GMB_03', 'GMB_03', 'GMB_03', 'GMB_03', 'GMB_03', 'GMB_03', 'GMB_03', 'GMB_04', 'GMB_04', 'GMB_04', 'GMB_04', 'GMB_04', 'GMB_04', 'GMB_04', 'GMB_04', 'GMB_04', 'GMB_04', 'GMB_04', 'GMB_04', 'GMB_04', 'GMB_04', 'GMB_04', 'GMB_04', 'GMB_04', 'GMB_04', 'GMB_04', 'GMB_04', 'GMB_04', 'GMB_04', 'GMB_04', 'GMB_04', 'GMB_04', 'GMB_04', 'GMB_04', 'GMB_04', 'GMB_04', 'GMB_04', 'GMB_04', 'GMB_04', 'GMB_04', 'GMB_04', 'GMB_04', 'GMB_04', 'GMB_04', 'GMB_04', 'GMB_04', 'GMB_04', 'GMB_04', 'GMB_04', 'GMB_04', 'GMB_04', 'GMB_04', 'GMB_04', 'GMB_04', 'GMB_04', 'GMB_04', 'GMB_04', 'GMB_04', 'GMB_04', 'GMB_04', 'GMB_04', 'GMB_04', 'GMB_04', 'GMB_04', 'GMB_04', 'GMB_04', 'GMB_04', 'GMB_04', 'GMB_04', 'GMB_04', 'GMB_04', 'GMB_04', 'GMB_04', 'GMB_04', 'GMB_04', 'GMB_04', 'GMB_04', 'GMB_04', 'GMB_04', 'GMB_04', 'GMB_04', 'GMB_04', 'GMB_04', 'GMB_04', 'GMB_04', 'GMB_04', 'GMB_04', 'GMB_04', 'GMB_04', 'GMB_04', 'GMB_04', 'GMB_04', 'GMB_04', 'GMB_04', 'GMB_04', 'GMB_04', 'GMB_04', 'GMB_04', 'GMB_04', 'GMB_04', 'GMB_04', 'GMB_04', 'GMB_04', 'GMB_04', 'GMB_04', 'GMB_04', 'GMB_04', 'GMB_04', 'GMB_04', 'GMB_04', 'GMB_04', 'GMB_04', 'GMB_04', 'GMB_04', 'GMB_04', 'GMB_04', 'GMB_04', 'GMB_04', 'GMB_04', 'GMB_04', 'GMB_04', 'GMB_04', 'GMB_04', 'GMB_04', 'GMB_04', 'GMB_04', 'GMB_04', 'GMB_04', 'GMB_04', 'GMB_01', 'GMB_01', 'GMB_01', 'GMB_01', 'GMB_01', 'GMB_01', 'GMB_01', 'GMB_01', 'GMB_01', 'GMB_01', 'GMB_01', 'GMB_01', 'GMB_01', 'GMB_01', 'GMB_01', 'GMB_01', 'GMB_01', 'GMB_01', 'GMB_01', 'GMB_01', 'GMB_01', 'GMB_01', 'GMB_01', 'GMB_01', 'GMB_01', 'GMB_01', 'GMB_01', 'GMB_01', 'GMB_01', 'GMB_01', 'GMB_01', 'GMB_01', 'GMB_01', 'GMB_01', 'GMB_01', 'GMB_01', 'GMB_01', 'GMB_01', 'GMB_01', 'GMB_01', 'GMB_01', 'GMB_01', 'GMB_01', 'GMB_01', 'GMB_01', 'GMB_01', 'GMB_01', 'GMB_01', 'GMB_01', 'GMB_01', 'GMB_01', 'GMB_01', 'GMB_01', 'GMB_01', 'GMB_01', 'GMB_01', 'GMB_01', 'GMB_01', 'GMB_01', 'GMB_01', 'GMB_01', 'GMB_01', 'GMB_01', 'GMB_01', 'GMB_01', 'GMB_01', 'GMB_01', 'GMB_01', 'GMB_01', 'GMB_01', 'GMB_01', 'GMB_01', 'GMB_01', 'GMB_01', 'GMB_01', 'GMB_01', 'GMB_01', 'GMB_01', 'GMB_01', 'GMB_01', 'GMB_01', 'GMB_01', 'GMB_01', 'GMB_01', 'GMB_01', 'GMB_01', 'GMB_01', 'GMB_01', 'GMB_01', 'GMB_01', 'GMB_01', 'GMB_01', 'GMB_01', 'GMB_01', 'GMB_01', 'GMB_01', 'GMB_01', 'GMB_01', 'GMB_01', 'GMB_01', 'GMB_01', 'GMB_01', 'GMB_01', 'GMB_01', 'GMB_01', 'GMB_01', 'GMB_01', 'GMB_01', 'GMB_01', 'GMB_01', 'GMB_01', 'GMB_01']\n"
          ],
          "name": "stdout"
        }
      ]
    },
    {
      "cell_type": "markdown",
      "metadata": {
        "id": "IgN5ox5ndT14"
      },
      "source": [
        "**Melakukan Encoding Label**"
      ]
    },
    {
      "cell_type": "code",
      "metadata": {
        "id": "TdpVyRsOdYdK",
        "colab": {
          "base_uri": "https://localhost:8080/"
        },
        "outputId": "540580f3-6e73-4df7-b9c8-538ef51570d9"
      },
      "source": [
        "# encode the labels, converting them from strings to integers\n",
        "lb = LabelBinarizer()\n",
        "labels = lb.fit_transform(labels)\n",
        "print(labels.shape)"
      ],
      "execution_count": 9,
      "outputs": [
        {
          "output_type": "stream",
          "text": [
            "(580, 5)\n"
          ],
          "name": "stdout"
        }
      ]
    },
    {
      "cell_type": "markdown",
      "metadata": {
        "id": "uRjPWnxic7XJ"
      },
      "source": [
        "**Membagi DataSet kedalam (Test dan Train)**"
      ]
    },
    {
      "cell_type": "code",
      "metadata": {
        "id": "mubboYqucu8v",
        "colab": {
          "base_uri": "https://localhost:8080/"
        },
        "outputId": "be51c0b1-7d60-40c8-e575-fd62d01f96cc"
      },
      "source": [
        "# perform a training and testing split, using 75% of the data for\n",
        "# training and 25% for evaluation\n",
        "x_train,x_val,y_train,y_val=train_test_split(np.array(data),\tnp.array(labels), test_size=0.25)\n",
        "x_test=np.array(data)\n",
        "y_test=np.array(labels)\n",
        "print((x_train.shape,y_train.shape))\n",
        "print((x_val.shape,y_val.shape))\n",
        "print((x_test.shape,y_test.shape))"
      ],
      "execution_count": 10,
      "outputs": [
        {
          "output_type": "stream",
          "text": [
            "((435, 224, 224, 3), (435, 5))\n",
            "((145, 224, 224, 3), (145, 5))\n",
            "((580, 224, 224, 3), (580, 5))\n"
          ],
          "name": "stdout"
        }
      ]
    },
    {
      "cell_type": "markdown",
      "metadata": {
        "id": "RCdyDwC6jT4o"
      },
      "source": [
        "**Membangun Model**"
      ]
    },
    {
      "cell_type": "code",
      "metadata": {
        "id": "EavHP6mHjVV_",
        "colab": {
          "base_uri": "https://localhost:8080/"
        },
        "outputId": "8c5b4e49-8644-49fd-e7d7-680b7bec38df"
      },
      "source": [
        "from keras.layers import Dropout\n",
        "base_model = MobileNet(weights='imagenet', include_top=False)\n",
        "x = base_model.output\n",
        "x = GlobalAveragePooling2D()(x)\n",
        "x = Dropout(0.2)(x)\n",
        "x = BatchNormalization()(x)\n",
        "x = Dense(2048, activation='relu')(x)\n",
        "out = Dense(5, activation='softmax')(x)\n",
        "\n",
        "model = Model(inputs=base_model.input, outputs=out)\n",
        "model.summary()"
      ],
      "execution_count": 20,
      "outputs": [
        {
          "output_type": "stream",
          "text": [
            "WARNING:tensorflow:`input_shape` is undefined or non-square, or `rows` is not in [128, 160, 192, 224]. Weights for input shape (224, 224) will be loaded as the default.\n",
            "Model: \"functional_3\"\n",
            "_________________________________________________________________\n",
            "Layer (type)                 Output Shape              Param #   \n",
            "=================================================================\n",
            "input_2 (InputLayer)         [(None, None, None, 3)]   0         \n",
            "_________________________________________________________________\n",
            "conv1_pad (ZeroPadding2D)    (None, None, None, 3)     0         \n",
            "_________________________________________________________________\n",
            "conv1 (Conv2D)               (None, None, None, 32)    864       \n",
            "_________________________________________________________________\n",
            "conv1_bn (BatchNormalization (None, None, None, 32)    128       \n",
            "_________________________________________________________________\n",
            "conv1_relu (ReLU)            (None, None, None, 32)    0         \n",
            "_________________________________________________________________\n",
            "conv_dw_1 (DepthwiseConv2D)  (None, None, None, 32)    288       \n",
            "_________________________________________________________________\n",
            "conv_dw_1_bn (BatchNormaliza (None, None, None, 32)    128       \n",
            "_________________________________________________________________\n",
            "conv_dw_1_relu (ReLU)        (None, None, None, 32)    0         \n",
            "_________________________________________________________________\n",
            "conv_pw_1 (Conv2D)           (None, None, None, 64)    2048      \n",
            "_________________________________________________________________\n",
            "conv_pw_1_bn (BatchNormaliza (None, None, None, 64)    256       \n",
            "_________________________________________________________________\n",
            "conv_pw_1_relu (ReLU)        (None, None, None, 64)    0         \n",
            "_________________________________________________________________\n",
            "conv_pad_2 (ZeroPadding2D)   (None, None, None, 64)    0         \n",
            "_________________________________________________________________\n",
            "conv_dw_2 (DepthwiseConv2D)  (None, None, None, 64)    576       \n",
            "_________________________________________________________________\n",
            "conv_dw_2_bn (BatchNormaliza (None, None, None, 64)    256       \n",
            "_________________________________________________________________\n",
            "conv_dw_2_relu (ReLU)        (None, None, None, 64)    0         \n",
            "_________________________________________________________________\n",
            "conv_pw_2 (Conv2D)           (None, None, None, 128)   8192      \n",
            "_________________________________________________________________\n",
            "conv_pw_2_bn (BatchNormaliza (None, None, None, 128)   512       \n",
            "_________________________________________________________________\n",
            "conv_pw_2_relu (ReLU)        (None, None, None, 128)   0         \n",
            "_________________________________________________________________\n",
            "conv_dw_3 (DepthwiseConv2D)  (None, None, None, 128)   1152      \n",
            "_________________________________________________________________\n",
            "conv_dw_3_bn (BatchNormaliza (None, None, None, 128)   512       \n",
            "_________________________________________________________________\n",
            "conv_dw_3_relu (ReLU)        (None, None, None, 128)   0         \n",
            "_________________________________________________________________\n",
            "conv_pw_3 (Conv2D)           (None, None, None, 128)   16384     \n",
            "_________________________________________________________________\n",
            "conv_pw_3_bn (BatchNormaliza (None, None, None, 128)   512       \n",
            "_________________________________________________________________\n",
            "conv_pw_3_relu (ReLU)        (None, None, None, 128)   0         \n",
            "_________________________________________________________________\n",
            "conv_pad_4 (ZeroPadding2D)   (None, None, None, 128)   0         \n",
            "_________________________________________________________________\n",
            "conv_dw_4 (DepthwiseConv2D)  (None, None, None, 128)   1152      \n",
            "_________________________________________________________________\n",
            "conv_dw_4_bn (BatchNormaliza (None, None, None, 128)   512       \n",
            "_________________________________________________________________\n",
            "conv_dw_4_relu (ReLU)        (None, None, None, 128)   0         \n",
            "_________________________________________________________________\n",
            "conv_pw_4 (Conv2D)           (None, None, None, 256)   32768     \n",
            "_________________________________________________________________\n",
            "conv_pw_4_bn (BatchNormaliza (None, None, None, 256)   1024      \n",
            "_________________________________________________________________\n",
            "conv_pw_4_relu (ReLU)        (None, None, None, 256)   0         \n",
            "_________________________________________________________________\n",
            "conv_dw_5 (DepthwiseConv2D)  (None, None, None, 256)   2304      \n",
            "_________________________________________________________________\n",
            "conv_dw_5_bn (BatchNormaliza (None, None, None, 256)   1024      \n",
            "_________________________________________________________________\n",
            "conv_dw_5_relu (ReLU)        (None, None, None, 256)   0         \n",
            "_________________________________________________________________\n",
            "conv_pw_5 (Conv2D)           (None, None, None, 256)   65536     \n",
            "_________________________________________________________________\n",
            "conv_pw_5_bn (BatchNormaliza (None, None, None, 256)   1024      \n",
            "_________________________________________________________________\n",
            "conv_pw_5_relu (ReLU)        (None, None, None, 256)   0         \n",
            "_________________________________________________________________\n",
            "conv_pad_6 (ZeroPadding2D)   (None, None, None, 256)   0         \n",
            "_________________________________________________________________\n",
            "conv_dw_6 (DepthwiseConv2D)  (None, None, None, 256)   2304      \n",
            "_________________________________________________________________\n",
            "conv_dw_6_bn (BatchNormaliza (None, None, None, 256)   1024      \n",
            "_________________________________________________________________\n",
            "conv_dw_6_relu (ReLU)        (None, None, None, 256)   0         \n",
            "_________________________________________________________________\n",
            "conv_pw_6 (Conv2D)           (None, None, None, 512)   131072    \n",
            "_________________________________________________________________\n",
            "conv_pw_6_bn (BatchNormaliza (None, None, None, 512)   2048      \n",
            "_________________________________________________________________\n",
            "conv_pw_6_relu (ReLU)        (None, None, None, 512)   0         \n",
            "_________________________________________________________________\n",
            "conv_dw_7 (DepthwiseConv2D)  (None, None, None, 512)   4608      \n",
            "_________________________________________________________________\n",
            "conv_dw_7_bn (BatchNormaliza (None, None, None, 512)   2048      \n",
            "_________________________________________________________________\n",
            "conv_dw_7_relu (ReLU)        (None, None, None, 512)   0         \n",
            "_________________________________________________________________\n",
            "conv_pw_7 (Conv2D)           (None, None, None, 512)   262144    \n",
            "_________________________________________________________________\n",
            "conv_pw_7_bn (BatchNormaliza (None, None, None, 512)   2048      \n",
            "_________________________________________________________________\n",
            "conv_pw_7_relu (ReLU)        (None, None, None, 512)   0         \n",
            "_________________________________________________________________\n",
            "conv_dw_8 (DepthwiseConv2D)  (None, None, None, 512)   4608      \n",
            "_________________________________________________________________\n",
            "conv_dw_8_bn (BatchNormaliza (None, None, None, 512)   2048      \n",
            "_________________________________________________________________\n",
            "conv_dw_8_relu (ReLU)        (None, None, None, 512)   0         \n",
            "_________________________________________________________________\n",
            "conv_pw_8 (Conv2D)           (None, None, None, 512)   262144    \n",
            "_________________________________________________________________\n",
            "conv_pw_8_bn (BatchNormaliza (None, None, None, 512)   2048      \n",
            "_________________________________________________________________\n",
            "conv_pw_8_relu (ReLU)        (None, None, None, 512)   0         \n",
            "_________________________________________________________________\n",
            "conv_dw_9 (DepthwiseConv2D)  (None, None, None, 512)   4608      \n",
            "_________________________________________________________________\n",
            "conv_dw_9_bn (BatchNormaliza (None, None, None, 512)   2048      \n",
            "_________________________________________________________________\n",
            "conv_dw_9_relu (ReLU)        (None, None, None, 512)   0         \n",
            "_________________________________________________________________\n",
            "conv_pw_9 (Conv2D)           (None, None, None, 512)   262144    \n",
            "_________________________________________________________________\n",
            "conv_pw_9_bn (BatchNormaliza (None, None, None, 512)   2048      \n",
            "_________________________________________________________________\n",
            "conv_pw_9_relu (ReLU)        (None, None, None, 512)   0         \n",
            "_________________________________________________________________\n",
            "conv_dw_10 (DepthwiseConv2D) (None, None, None, 512)   4608      \n",
            "_________________________________________________________________\n",
            "conv_dw_10_bn (BatchNormaliz (None, None, None, 512)   2048      \n",
            "_________________________________________________________________\n",
            "conv_dw_10_relu (ReLU)       (None, None, None, 512)   0         \n",
            "_________________________________________________________________\n",
            "conv_pw_10 (Conv2D)          (None, None, None, 512)   262144    \n",
            "_________________________________________________________________\n",
            "conv_pw_10_bn (BatchNormaliz (None, None, None, 512)   2048      \n",
            "_________________________________________________________________\n",
            "conv_pw_10_relu (ReLU)       (None, None, None, 512)   0         \n",
            "_________________________________________________________________\n",
            "conv_dw_11 (DepthwiseConv2D) (None, None, None, 512)   4608      \n",
            "_________________________________________________________________\n",
            "conv_dw_11_bn (BatchNormaliz (None, None, None, 512)   2048      \n",
            "_________________________________________________________________\n",
            "conv_dw_11_relu (ReLU)       (None, None, None, 512)   0         \n",
            "_________________________________________________________________\n",
            "conv_pw_11 (Conv2D)          (None, None, None, 512)   262144    \n",
            "_________________________________________________________________\n",
            "conv_pw_11_bn (BatchNormaliz (None, None, None, 512)   2048      \n",
            "_________________________________________________________________\n",
            "conv_pw_11_relu (ReLU)       (None, None, None, 512)   0         \n",
            "_________________________________________________________________\n",
            "conv_pad_12 (ZeroPadding2D)  (None, None, None, 512)   0         \n",
            "_________________________________________________________________\n",
            "conv_dw_12 (DepthwiseConv2D) (None, None, None, 512)   4608      \n",
            "_________________________________________________________________\n",
            "conv_dw_12_bn (BatchNormaliz (None, None, None, 512)   2048      \n",
            "_________________________________________________________________\n",
            "conv_dw_12_relu (ReLU)       (None, None, None, 512)   0         \n",
            "_________________________________________________________________\n",
            "conv_pw_12 (Conv2D)          (None, None, None, 1024)  524288    \n",
            "_________________________________________________________________\n",
            "conv_pw_12_bn (BatchNormaliz (None, None, None, 1024)  4096      \n",
            "_________________________________________________________________\n",
            "conv_pw_12_relu (ReLU)       (None, None, None, 1024)  0         \n",
            "_________________________________________________________________\n",
            "conv_dw_13 (DepthwiseConv2D) (None, None, None, 1024)  9216      \n",
            "_________________________________________________________________\n",
            "conv_dw_13_bn (BatchNormaliz (None, None, None, 1024)  4096      \n",
            "_________________________________________________________________\n",
            "conv_dw_13_relu (ReLU)       (None, None, None, 1024)  0         \n",
            "_________________________________________________________________\n",
            "conv_pw_13 (Conv2D)          (None, None, None, 1024)  1048576   \n",
            "_________________________________________________________________\n",
            "conv_pw_13_bn (BatchNormaliz (None, None, None, 1024)  4096      \n",
            "_________________________________________________________________\n",
            "conv_pw_13_relu (ReLU)       (None, None, None, 1024)  0         \n",
            "_________________________________________________________________\n",
            "global_average_pooling2d_1 ( (None, 1024)              0         \n",
            "_________________________________________________________________\n",
            "dropout_1 (Dropout)          (None, 1024)              0         \n",
            "_________________________________________________________________\n",
            "batch_normalization_1 (Batch (None, 1024)              4096      \n",
            "_________________________________________________________________\n",
            "dense_2 (Dense)              (None, 2048)              2099200   \n",
            "_________________________________________________________________\n",
            "dense_3 (Dense)              (None, 5)                 10245     \n",
            "=================================================================\n",
            "Total params: 5,342,405\n",
            "Trainable params: 5,318,469\n",
            "Non-trainable params: 23,936\n",
            "_________________________________________________________________\n"
          ],
          "name": "stdout"
        }
      ]
    },
    {
      "cell_type": "markdown",
      "metadata": {
        "id": "HBWueJsgjt3A"
      },
      "source": [
        "**Mengkompile Model**"
      ]
    },
    {
      "cell_type": "code",
      "metadata": {
        "id": "ucC07nhooVM3"
      },
      "source": [
        "\n",
        "es = EarlyStopping(monitor='val_loss',\n",
        "                   patience=10,\n",
        "                   mode='auto',\n",
        "                   restore_best_weights=True)\n",
        "checkpoint = ModelCheckpoint('best_weight_scene_mobileNet.h5',\n",
        "                             monitor='val_accuracy',\n",
        "                             verbose=1,\n",
        "                             save_best_only=True,\n",
        "                             mode='auto',)"
      ],
      "execution_count": 21,
      "outputs": []
    },
    {
      "cell_type": "code",
      "metadata": {
        "id": "WkCa5706juHd",
        "colab": {
          "base_uri": "https://localhost:8080/"
        },
        "outputId": "0ce07a93-e966-4a79-caf7-936548b45348"
      },
      "source": [
        "print(\"[INFO] training network...\")\n",
        "opt = Adam(lr=1e-4, decay=1e-3/ 50)\n",
        "\n",
        "model.compile(loss=\"categorical_crossentropy\", optimizer=opt,\n",
        "\tmetrics=[\"accuracy\"])\n",
        "H = model.fit(x_train, y_train, validation_data=(x_test, y_test), epochs=100, batch_size=32, callbacks=[es, checkpoint])"
      ],
      "execution_count": 22,
      "outputs": [
        {
          "output_type": "stream",
          "text": [
            "[INFO] training network...\n",
            "Epoch 1/100\n",
            " 2/14 [===>..........................] - ETA: 1s - loss: 1.9315 - accuracy: 0.1875WARNING:tensorflow:Callbacks method `on_train_batch_end` is slow compared to the batch time (batch time: 0.0537s vs `on_train_batch_end` time: 0.1464s). Check your callbacks.\n",
            "14/14 [==============================] - ETA: 0s - loss: 1.0246 - accuracy: 0.6023\n",
            "Epoch 00001: val_accuracy improved from -inf to 0.29828, saving model to best_weight_scene_mobileNet.h5\n",
            "14/14 [==============================] - 5s 365ms/step - loss: 1.0246 - accuracy: 0.6023 - val_loss: 1.5125 - val_accuracy: 0.2983\n",
            "Epoch 2/100\n",
            "14/14 [==============================] - ETA: 0s - loss: 0.1655 - accuracy: 0.9609\n",
            "Epoch 00002: val_accuracy improved from 0.29828 to 0.55862, saving model to best_weight_scene_mobileNet.h5\n",
            "14/14 [==============================] - 4s 270ms/step - loss: 0.1655 - accuracy: 0.9609 - val_loss: 1.1851 - val_accuracy: 0.5586\n",
            "Epoch 3/100\n",
            "14/14 [==============================] - ETA: 0s - loss: 0.0492 - accuracy: 0.9954\n",
            "Epoch 00003: val_accuracy improved from 0.55862 to 0.63621, saving model to best_weight_scene_mobileNet.h5\n",
            "14/14 [==============================] - 4s 272ms/step - loss: 0.0492 - accuracy: 0.9954 - val_loss: 1.0104 - val_accuracy: 0.6362\n",
            "Epoch 4/100\n",
            "14/14 [==============================] - ETA: 0s - loss: 0.0273 - accuracy: 1.0000\n",
            "Epoch 00004: val_accuracy improved from 0.63621 to 0.67241, saving model to best_weight_scene_mobileNet.h5\n",
            "14/14 [==============================] - 4s 268ms/step - loss: 0.0273 - accuracy: 1.0000 - val_loss: 0.8161 - val_accuracy: 0.6724\n",
            "Epoch 5/100\n",
            "14/14 [==============================] - ETA: 0s - loss: 0.0243 - accuracy: 0.9977\n",
            "Epoch 00005: val_accuracy improved from 0.67241 to 0.77241, saving model to best_weight_scene_mobileNet.h5\n",
            "14/14 [==============================] - 4s 272ms/step - loss: 0.0243 - accuracy: 0.9977 - val_loss: 0.5939 - val_accuracy: 0.7724\n",
            "Epoch 6/100\n",
            "14/14 [==============================] - ETA: 0s - loss: 0.0125 - accuracy: 1.0000\n",
            "Epoch 00006: val_accuracy improved from 0.77241 to 0.83621, saving model to best_weight_scene_mobileNet.h5\n",
            "14/14 [==============================] - 4s 274ms/step - loss: 0.0125 - accuracy: 1.0000 - val_loss: 0.4209 - val_accuracy: 0.8362\n",
            "Epoch 7/100\n",
            "14/14 [==============================] - ETA: 0s - loss: 0.0070 - accuracy: 1.0000\n",
            "Epoch 00007: val_accuracy improved from 0.83621 to 0.91552, saving model to best_weight_scene_mobileNet.h5\n",
            "14/14 [==============================] - 4s 273ms/step - loss: 0.0070 - accuracy: 1.0000 - val_loss: 0.2956 - val_accuracy: 0.9155\n",
            "Epoch 8/100\n",
            "14/14 [==============================] - ETA: 0s - loss: 0.0119 - accuracy: 1.0000\n",
            "Epoch 00008: val_accuracy improved from 0.91552 to 0.93621, saving model to best_weight_scene_mobileNet.h5\n",
            "14/14 [==============================] - 4s 275ms/step - loss: 0.0119 - accuracy: 1.0000 - val_loss: 0.2364 - val_accuracy: 0.9362\n",
            "Epoch 9/100\n",
            "14/14 [==============================] - ETA: 0s - loss: 0.0052 - accuracy: 1.0000\n",
            "Epoch 00009: val_accuracy improved from 0.93621 to 0.94655, saving model to best_weight_scene_mobileNet.h5\n",
            "14/14 [==============================] - 4s 276ms/step - loss: 0.0052 - accuracy: 1.0000 - val_loss: 0.1823 - val_accuracy: 0.9466\n",
            "Epoch 10/100\n",
            "14/14 [==============================] - ETA: 0s - loss: 0.0051 - accuracy: 1.0000\n",
            "Epoch 00010: val_accuracy improved from 0.94655 to 0.96552, saving model to best_weight_scene_mobileNet.h5\n",
            "14/14 [==============================] - 4s 272ms/step - loss: 0.0051 - accuracy: 1.0000 - val_loss: 0.1284 - val_accuracy: 0.9655\n",
            "Epoch 11/100\n",
            "14/14 [==============================] - ETA: 0s - loss: 0.0040 - accuracy: 1.0000\n",
            "Epoch 00011: val_accuracy improved from 0.96552 to 0.97414, saving model to best_weight_scene_mobileNet.h5\n",
            "14/14 [==============================] - 4s 272ms/step - loss: 0.0040 - accuracy: 1.0000 - val_loss: 0.0981 - val_accuracy: 0.9741\n",
            "Epoch 12/100\n",
            "14/14 [==============================] - ETA: 0s - loss: 0.0112 - accuracy: 0.9977\n",
            "Epoch 00012: val_accuracy did not improve from 0.97414\n",
            "14/14 [==============================] - 3s 230ms/step - loss: 0.0112 - accuracy: 0.9977 - val_loss: 0.1243 - val_accuracy: 0.9517\n",
            "Epoch 13/100\n",
            "14/14 [==============================] - ETA: 0s - loss: 0.0054 - accuracy: 1.0000\n",
            "Epoch 00013: val_accuracy improved from 0.97414 to 0.98276, saving model to best_weight_scene_mobileNet.h5\n",
            "14/14 [==============================] - 4s 276ms/step - loss: 0.0054 - accuracy: 1.0000 - val_loss: 0.0739 - val_accuracy: 0.9828\n",
            "Epoch 14/100\n",
            "14/14 [==============================] - ETA: 0s - loss: 0.0028 - accuracy: 1.0000\n",
            "Epoch 00014: val_accuracy improved from 0.98276 to 0.98448, saving model to best_weight_scene_mobileNet.h5\n",
            "14/14 [==============================] - 4s 269ms/step - loss: 0.0028 - accuracy: 1.0000 - val_loss: 0.0622 - val_accuracy: 0.9845\n",
            "Epoch 15/100\n",
            "14/14 [==============================] - ETA: 0s - loss: 0.0030 - accuracy: 1.0000\n",
            "Epoch 00015: val_accuracy did not improve from 0.98448\n",
            "14/14 [==============================] - 3s 232ms/step - loss: 0.0030 - accuracy: 1.0000 - val_loss: 0.0526 - val_accuracy: 0.9828\n",
            "Epoch 16/100\n",
            "14/14 [==============================] - ETA: 0s - loss: 0.0038 - accuracy: 1.0000\n",
            "Epoch 00016: val_accuracy did not improve from 0.98448\n",
            "14/14 [==============================] - 3s 230ms/step - loss: 0.0038 - accuracy: 1.0000 - val_loss: 0.0484 - val_accuracy: 0.9845\n",
            "Epoch 17/100\n",
            "14/14 [==============================] - ETA: 0s - loss: 0.0019 - accuracy: 1.0000\n",
            "Epoch 00017: val_accuracy did not improve from 0.98448\n",
            "14/14 [==============================] - 3s 230ms/step - loss: 0.0019 - accuracy: 1.0000 - val_loss: 0.0440 - val_accuracy: 0.9845\n",
            "Epoch 18/100\n",
            "14/14 [==============================] - ETA: 0s - loss: 0.0015 - accuracy: 1.0000\n",
            "Epoch 00018: val_accuracy did not improve from 0.98448\n",
            "14/14 [==============================] - 3s 231ms/step - loss: 0.0015 - accuracy: 1.0000 - val_loss: 0.0413 - val_accuracy: 0.9845\n",
            "Epoch 19/100\n",
            "14/14 [==============================] - ETA: 0s - loss: 0.0019 - accuracy: 1.0000\n",
            "Epoch 00019: val_accuracy did not improve from 0.98448\n",
            "14/14 [==============================] - 3s 231ms/step - loss: 0.0019 - accuracy: 1.0000 - val_loss: 0.0395 - val_accuracy: 0.9845\n",
            "Epoch 20/100\n",
            "14/14 [==============================] - ETA: 0s - loss: 0.0014 - accuracy: 1.0000\n",
            "Epoch 00020: val_accuracy improved from 0.98448 to 0.98621, saving model to best_weight_scene_mobileNet.h5\n",
            "14/14 [==============================] - 4s 293ms/step - loss: 0.0014 - accuracy: 1.0000 - val_loss: 0.0392 - val_accuracy: 0.9862\n",
            "Epoch 21/100\n",
            "14/14 [==============================] - ETA: 0s - loss: 0.0013 - accuracy: 1.0000\n",
            "Epoch 00021: val_accuracy did not improve from 0.98621\n",
            "14/14 [==============================] - 3s 228ms/step - loss: 0.0013 - accuracy: 1.0000 - val_loss: 0.0381 - val_accuracy: 0.9862\n",
            "Epoch 22/100\n",
            "14/14 [==============================] - ETA: 0s - loss: 0.0015 - accuracy: 1.0000\n",
            "Epoch 00022: val_accuracy did not improve from 0.98621\n",
            "14/14 [==============================] - 3s 231ms/step - loss: 0.0015 - accuracy: 1.0000 - val_loss: 0.0371 - val_accuracy: 0.9862\n",
            "Epoch 23/100\n",
            "14/14 [==============================] - ETA: 0s - loss: 0.0014 - accuracy: 1.0000\n",
            "Epoch 00023: val_accuracy improved from 0.98621 to 0.98793, saving model to best_weight_scene_mobileNet.h5\n",
            "14/14 [==============================] - 4s 273ms/step - loss: 0.0014 - accuracy: 1.0000 - val_loss: 0.0362 - val_accuracy: 0.9879\n",
            "Epoch 24/100\n",
            "14/14 [==============================] - ETA: 0s - loss: 0.0013 - accuracy: 1.0000\n",
            "Epoch 00024: val_accuracy did not improve from 0.98793\n",
            "14/14 [==============================] - 3s 231ms/step - loss: 0.0013 - accuracy: 1.0000 - val_loss: 0.0351 - val_accuracy: 0.9879\n",
            "Epoch 25/100\n",
            "14/14 [==============================] - ETA: 0s - loss: 0.0012 - accuracy: 1.0000\n",
            "Epoch 00025: val_accuracy improved from 0.98793 to 0.98966, saving model to best_weight_scene_mobileNet.h5\n",
            "14/14 [==============================] - 4s 269ms/step - loss: 0.0012 - accuracy: 1.0000 - val_loss: 0.0339 - val_accuracy: 0.9897\n",
            "Epoch 26/100\n",
            "14/14 [==============================] - ETA: 0s - loss: 0.0011 - accuracy: 1.0000\n",
            "Epoch 00026: val_accuracy did not improve from 0.98966\n",
            "14/14 [==============================] - 3s 234ms/step - loss: 0.0011 - accuracy: 1.0000 - val_loss: 0.0331 - val_accuracy: 0.9897\n",
            "Epoch 27/100\n",
            "14/14 [==============================] - ETA: 0s - loss: 8.5926e-04 - accuracy: 1.0000\n",
            "Epoch 00027: val_accuracy did not improve from 0.98966\n",
            "14/14 [==============================] - 3s 234ms/step - loss: 8.5926e-04 - accuracy: 1.0000 - val_loss: 0.0326 - val_accuracy: 0.9897\n",
            "Epoch 28/100\n",
            "14/14 [==============================] - ETA: 0s - loss: 8.8360e-04 - accuracy: 1.0000\n",
            "Epoch 00028: val_accuracy did not improve from 0.98966\n",
            "14/14 [==============================] - 3s 233ms/step - loss: 8.8360e-04 - accuracy: 1.0000 - val_loss: 0.0325 - val_accuracy: 0.9897\n",
            "Epoch 29/100\n",
            "14/14 [==============================] - ETA: 0s - loss: 0.0026 - accuracy: 1.0000\n",
            "Epoch 00029: val_accuracy did not improve from 0.98966\n",
            "14/14 [==============================] - 3s 234ms/step - loss: 0.0026 - accuracy: 1.0000 - val_loss: 0.0316 - val_accuracy: 0.9879\n",
            "Epoch 30/100\n",
            "14/14 [==============================] - ETA: 0s - loss: 0.0021 - accuracy: 1.0000\n",
            "Epoch 00030: val_accuracy did not improve from 0.98966\n",
            "14/14 [==============================] - 3s 228ms/step - loss: 0.0021 - accuracy: 1.0000 - val_loss: 0.0355 - val_accuracy: 0.9879\n",
            "Epoch 31/100\n",
            "14/14 [==============================] - ETA: 0s - loss: 0.0013 - accuracy: 1.0000\n",
            "Epoch 00031: val_accuracy did not improve from 0.98966\n",
            "14/14 [==============================] - 3s 232ms/step - loss: 0.0013 - accuracy: 1.0000 - val_loss: 0.0330 - val_accuracy: 0.9879\n",
            "Epoch 32/100\n",
            "14/14 [==============================] - ETA: 0s - loss: 7.8664e-04 - accuracy: 1.0000\n",
            "Epoch 00032: val_accuracy did not improve from 0.98966\n",
            "14/14 [==============================] - 3s 229ms/step - loss: 7.8664e-04 - accuracy: 1.0000 - val_loss: 0.0325 - val_accuracy: 0.9879\n",
            "Epoch 33/100\n",
            "14/14 [==============================] - ETA: 0s - loss: 4.4438e-04 - accuracy: 1.0000\n",
            "Epoch 00033: val_accuracy did not improve from 0.98966\n",
            "14/14 [==============================] - 3s 228ms/step - loss: 4.4438e-04 - accuracy: 1.0000 - val_loss: 0.0328 - val_accuracy: 0.9879\n",
            "Epoch 34/100\n",
            "14/14 [==============================] - ETA: 0s - loss: 6.5580e-04 - accuracy: 1.0000\n",
            "Epoch 00034: val_accuracy did not improve from 0.98966\n",
            "14/14 [==============================] - 3s 228ms/step - loss: 6.5580e-04 - accuracy: 1.0000 - val_loss: 0.0333 - val_accuracy: 0.9879\n",
            "Epoch 35/100\n",
            "14/14 [==============================] - ETA: 0s - loss: 7.8520e-04 - accuracy: 1.0000\n",
            "Epoch 00035: val_accuracy did not improve from 0.98966\n",
            "14/14 [==============================] - 3s 228ms/step - loss: 7.8520e-04 - accuracy: 1.0000 - val_loss: 0.0339 - val_accuracy: 0.9879\n",
            "Epoch 36/100\n",
            "14/14 [==============================] - ETA: 0s - loss: 0.0014 - accuracy: 1.0000\n",
            "Epoch 00036: val_accuracy did not improve from 0.98966\n",
            "14/14 [==============================] - 3s 229ms/step - loss: 0.0014 - accuracy: 1.0000 - val_loss: 0.0355 - val_accuracy: 0.9879\n",
            "Epoch 37/100\n",
            "14/14 [==============================] - ETA: 0s - loss: 6.3626e-04 - accuracy: 1.0000\n",
            "Epoch 00037: val_accuracy did not improve from 0.98966\n",
            "14/14 [==============================] - 3s 226ms/step - loss: 6.3626e-04 - accuracy: 1.0000 - val_loss: 0.0396 - val_accuracy: 0.9862\n",
            "Epoch 38/100\n",
            "14/14 [==============================] - ETA: 0s - loss: 6.5504e-04 - accuracy: 1.0000\n",
            "Epoch 00038: val_accuracy did not improve from 0.98966\n",
            "14/14 [==============================] - 3s 229ms/step - loss: 6.5504e-04 - accuracy: 1.0000 - val_loss: 0.0384 - val_accuracy: 0.9862\n",
            "Epoch 39/100\n",
            "14/14 [==============================] - ETA: 0s - loss: 6.4141e-04 - accuracy: 1.0000\n",
            "Epoch 00039: val_accuracy did not improve from 0.98966\n",
            "14/14 [==============================] - 3s 235ms/step - loss: 6.4141e-04 - accuracy: 1.0000 - val_loss: 0.0376 - val_accuracy: 0.9879\n"
          ],
          "name": "stdout"
        }
      ]
    },
    {
      "cell_type": "markdown",
      "metadata": {
        "id": "YyUTMscelHED"
      },
      "source": [
        "**Ploting Performansi**"
      ]
    },
    {
      "cell_type": "code",
      "metadata": {
        "id": "bO_f3hLmlGjP",
        "colab": {
          "base_uri": "https://localhost:8080/",
          "height": 590
        },
        "outputId": "9f61c9e6-5c93-4951-b08b-fe1aa54f1d9e"
      },
      "source": [
        "import matplotlib.pyplot as plt\n",
        "\n",
        "print(H.history.keys())\n",
        "# summarize history for accuracy\n",
        "plt.plot(H.history['accuracy'])\n",
        "plt.plot(H.history['val_accuracy'])\n",
        "plt.title('model accuracy')\n",
        "plt.ylabel('accuracy')\n",
        "plt.xlabel('epoch')\n",
        "plt.legend(['train', 'test'], loc='upper left')\n",
        "plt.show()\n",
        "# summarize history for loss\n",
        "plt.plot(H.history['loss'])\n",
        "plt.plot(H.history['val_loss'])\n",
        "plt.title('model loss')\n",
        "plt.ylabel('loss')\n",
        "plt.xlabel('epoch')\n",
        "plt.legend(['train', 'test'], loc='upper left')\n",
        "plt.show()"
      ],
      "execution_count": 23,
      "outputs": [
        {
          "output_type": "stream",
          "text": [
            "dict_keys(['loss', 'accuracy', 'val_loss', 'val_accuracy'])\n"
          ],
          "name": "stdout"
        },
        {
          "output_type": "display_data",
          "data": {
            "image/png": "[encoded data removed]",
            "text/plain": [
              "<Figure size 432x288 with 1 Axes>"
            ]
          },
          "metadata": {
            "tags": [],
            "needs_background": "light"
          }
        },
        {
          "output_type": "display_data",
          "data": {
            "image/png": "[encoded data removed]",
            "text/plain": [
              "<Figure size 432x288 with 1 Axes>"
            ]
          },
          "metadata": {
            "tags": [],
            "needs_background": "light"
          }
        }
      ]
    },
    {
      "cell_type": "markdown",
      "metadata": {
        "id": "Xx-GQ3wUlKNh"
      },
      "source": [
        "**Evaluasi Hasil**"
      ]
    },
    {
      "cell_type": "code",
      "metadata": {
        "id": "E4yhC121lKop",
        "colab": {
          "base_uri": "https://localhost:8080/"
        },
        "outputId": "55e86681-300d-45cc-e02a-b420ba37c77e"
      },
      "source": [
        "\n",
        "# evaluate the network\n",
        "print(\"[INFO] evaluating network...\")\n",
        "predictions = model.predict(x_test, batch_size=32)\n",
        "print(classification_report(y_test.argmax(axis=1),\n",
        "\tpredictions.argmax(axis=1), target_names=lb.classes_))"
      ],
      "execution_count": 24,
      "outputs": [
        {
          "output_type": "stream",
          "text": [
            "[INFO] evaluating network...\n",
            "              precision    recall  f1-score   support\n",
            "\n",
            "      GMB_01       0.98      0.97      0.98       112\n",
            "      GMB_02       1.00      0.98      0.99       113\n",
            "      GMB_03       1.00      0.99      1.00       112\n",
            "      GMB_04       0.98      0.99      0.99       122\n",
            "      GMB_05       0.98      1.00      0.99       121\n",
            "\n",
            "    accuracy                           0.99       580\n",
            "   macro avg       0.99      0.99      0.99       580\n",
            "weighted avg       0.99      0.99      0.99       580\n",
            "\n"
          ],
          "name": "stdout"
        }
      ]
    },
    {
      "cell_type": "markdown",
      "metadata": {
        "id": "WQNlTPIzlZEw"
      },
      "source": [
        "**Simpan Model**"
      ]
    },
    {
      "cell_type": "code",
      "metadata": {
        "id": "iBe82JlFlYpc",
        "colab": {
          "base_uri": "https://localhost:8080/"
        },
        "outputId": "93f16d35-79b0-4039-8595-99c9a2c73a10"
      },
      "source": [
        "model.save('nnmodel_scene')"
      ],
      "execution_count": 25,
      "outputs": [
        {
          "output_type": "stream",
          "text": [
            "WARNING:tensorflow:From /usr/local/lib/python3.6/dist-packages/tensorflow/python/training/tracking/tracking.py:111: Model.state_updates (from tensorflow.python.keras.engine.training) is deprecated and will be removed in a future version.\n",
            "Instructions for updating:\n",
            "This property should not be used in TensorFlow 2.0, as updates are applied automatically.\n",
            "WARNING:tensorflow:From /usr/local/lib/python3.6/dist-packages/tensorflow/python/training/tracking/tracking.py:111: Layer.updates (from tensorflow.python.keras.engine.base_layer) is deprecated and will be removed in a future version.\n",
            "Instructions for updating:\n",
            "This property should not be used in TensorFlow 2.0, as updates are applied automatically.\n",
            "INFO:tensorflow:Assets written to: nnmodel_scene/assets\n"
          ],
          "name": "stdout"
        }
      ]
    },
    {
      "cell_type": "code",
      "metadata": {
        "id": "9GWq8AaEF2QT",
        "outputId": "62da85b9-819a-4ec4-a11f-1f7add170ad1",
        "colab": {
          "base_uri": "https://localhost:8080/",
          "height": 269
        }
      },
      "source": [
        "import cv2\n",
        "import matplotlib.pyplot as plt\n",
        "image1='GMB02.jpg'\n",
        "img_array = cv2.imread(image1)\n",
        "plt.imshow(img_array)\n",
        "plt.show()"
      ],
      "execution_count": 34,
      "outputs": [
        {
          "output_type": "display_data",
          "data": {
            "image/png": "[encoded data removed]",
            "text/plain": [
              "<Figure size 432x288 with 1 Axes>"
            ]
          },
          "metadata": {
            "tags": [],
            "needs_background": "light"
          }
        }
      ]
    },
    {
      "cell_type": "code",
      "metadata": {
        "id": "3dVLm141F8Dt",
        "outputId": "110c3b28-21d1-4c7c-c4dc-e2d96adfb06a",
        "colab": {
          "base_uri": "https://localhost:8080/"
        }
      },
      "source": [
        "image_testing = Image.open(image1)\n",
        "image_testing = np.array(image_testing.resize((64, 64))) / 255.0\n",
        "image_testing.shape"
      ],
      "execution_count": 35,
      "outputs": [
        {
          "output_type": "execute_result",
          "data": {
            "text/plain": [
              "(64, 64, 3)"
            ]
          },
          "metadata": {
            "tags": []
          },
          "execution_count": 35
        }
      ]
    },
    {
      "cell_type": "code",
      "metadata": {
        "id": "vbO2imN8GAoJ",
        "outputId": "18e62290-e1b0-45da-f7ff-9efcf9cbd421",
        "colab": {
          "base_uri": "https://localhost:8080/"
        }
      },
      "source": [
        "\n",
        "image_testing = np.expand_dims(image_testing, axis=0)\n",
        "print(image_testing.shape)"
      ],
      "execution_count": 36,
      "outputs": [
        {
          "output_type": "stream",
          "text": [
            "(1, 64, 64, 3)\n"
          ],
          "name": "stdout"
        }
      ]
    },
    {
      "cell_type": "code",
      "metadata": {
        "id": "fkeAvVWIGCjn",
        "outputId": "8e49e173-d56f-476b-cc5f-d76286a27ec3",
        "colab": {
          "base_uri": "https://localhost:8080/"
        }
      },
      "source": [
        "output = model.predict(image_testing, 1)\n",
        "print(output)\n",
        "print(lb.classes_[output.argmax(axis=1)])"
      ],
      "execution_count": 37,
      "outputs": [
        {
          "output_type": "stream",
          "text": [
            "[[0.3175207  0.46866533 0.04131434 0.16802244 0.00447719]]\n",
            "['GMB_02']\n"
          ],
          "name": "stdout"
        }
      ]
    }
  ]
}