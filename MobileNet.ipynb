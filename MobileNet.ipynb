{
  "nbformat": 4,
  "nbformat_minor": 0,
  "metadata": {
    "accelerator": "GPU",
    "colab": {
      "name": "MobileNet.ipynb",
      "provenance": [],
      "collapsed_sections": []
    },
    "kernelspec": {
      "display_name": "Python 3",
      "name": "python3"
    }
  },
  "cells": [
    {
      "cell_type": "code",
      "metadata": {
        "colab": {
          "base_uri": "https://localhost:8080/"
        },
        "id": "4bYURV3qKY9y",
        "outputId": "1c339c00-6aa4-4090-9f58-df346bd65609"
      },
      "source": [
        "\n",
        "from google.colab import drive\n",
        "drive.mount('/content/drive')"
      ],
      "execution_count": null,
      "outputs": [
        {
          "output_type": "stream",
          "text": [
            "Mounted at /content/drive\n"
          ],
          "name": "stdout"
        }
      ]
    },
    {
      "cell_type": "code",
      "metadata": {
        "colab": {
          "base_uri": "https://localhost:8080/"
        },
        "id": "5FMu7IWdLTJd",
        "outputId": "bd1c704e-1751-426c-9f36-6381b4812851"
      },
      "source": [
        "cd /content/drive/My Drive/Tugas TL"
      ],
      "execution_count": null,
      "outputs": [
        {
          "output_type": "stream",
          "text": [
            "/content/drive/My Drive/Tugas TL\n"
          ],
          "name": "stdout"
        }
      ]
    },
    {
      "cell_type": "code",
      "metadata": {
        "colab": {
          "base_uri": "https://localhost:8080/"
        },
        "id": "I2WqnftQS9V8",
        "outputId": "ce5516cf-4612-4101-8975-cf7c2e2a1f47"
      },
      "source": [
        "ls"
      ],
      "execution_count": null,
      "outputs": [
        {
          "output_type": "stream",
          "text": [
            "\u001b[0m\u001b[01;34mData_Daun\u001b[0m/\n"
          ],
          "name": "stdout"
        }
      ]
    },
    {
      "cell_type": "code",
      "metadata": {
        "id": "n8mARki4LVK_"
      },
      "source": [
        "# import the necessary packages\n",
        "from keras.models import Sequential\n",
        "from keras.layers.convolutional import Conv2D\n",
        "from keras.layers.convolutional import MaxPooling2D\n",
        "from keras.layers.core import Activation\n",
        "from keras.layers.core import Flatten\n",
        "from keras.layers.core import Dense\n",
        "from keras.optimizers import Adam\n",
        "import cv2\n",
        "from sklearn.preprocessing import LabelBinarizer\n",
        "from sklearn.model_selection import train_test_split\n",
        "from sklearn.metrics import classification_report\n",
        "from PIL import Image\n",
        "from imutils import paths\n",
        "import numpy as np\n",
        "import os\n",
        "import matplotlib.image as mpimg\n",
        "from keras.preprocessing.image import ImageDataGenerator\n",
        "import tensorflow as tf\n",
        "from tensorflow.keras.preprocessing import image_dataset_from_directory\n",
        "import matplotlib.pyplot as plt\n",
        "from keras.applications.mobilenet import MobileNet\n",
        "from keras.callbacks import EarlyStopping, ModelCheckpoint\n",
        "from keras.models import Model\n",
        "from keras.layers import GlobalAveragePooling2D, BatchNormalization\n",
        "from keras.layers import Dropout"
      ],
      "execution_count": null,
      "outputs": []
    },
    {
      "cell_type": "markdown",
      "metadata": {
        "id": "K5DLvi7GUdez"
      },
      "source": [
        "**Mengambil Lokasi DataSet**"
      ]
    },
    {
      "cell_type": "code",
      "metadata": {
        "id": "qh2ENrXwLYBN",
        "colab": {
          "base_uri": "https://localhost:8080/"
        },
        "outputId": "857dcd84-c23a-4587-fb52-95a4a03e6b7f"
      },
      "source": [
        "print(\"[INFO] loading images...\")\n",
        "imagePaths = paths.list_images('Data_Daun')\n",
        "data = []\n",
        "labels = []\n",
        "for imagePath in paths.list_images(\"Data_Daun\"):\n",
        "    print(imagePath)"
      ],
      "execution_count": null,
      "outputs": [
        {
          "output_type": "stream",
          "text": [
            "[INFO] loading images...\n",
            "Data_Daun/GMB_01/IMG_20200827_200659.jpg\n",
            "Data_Daun/GMB_01/IMG_20200815_201810_HDR.jpg\n",
            "Data_Daun/GMB_01/IMG_20200815_201909_HDR.jpg\n",
            "Data_Daun/GMB_01/IMG_20200815_201730_HDR.jpg\n",
            "Data_Daun/GMB_01/IMG_20200827_200619.jpg\n",
            "Data_Daun/GMB_01/IMG_20200815_201851_HDR.jpg\n",
            "Data_Daun/GMB_01/IMG_20200827_200751.jpg\n",
            "Data_Daun/GMB_01/IMG_20200827_200834.jpg\n",
            "Data_Daun/GMB_01/IMG_20200827_201145.jpg\n",
            "Data_Daun/GMB_01/IMG_20200815_201700_HDR.jpg\n",
            "Data_Daun/GMB_01/IMG_20200827_201242.jpg\n",
            "Data_Daun/GMB_01/IMG_20200815_202026_HDR.jpg\n",
            "Data_Daun/GMB_01/IMG_20200827_200730.jpg\n",
            "Data_Daun/GMB_01/IMG_20200827_200820.jpg\n",
            "Data_Daun/GMB_01/IMG_20200815_201831_HDR.jpg\n",
            "Data_Daun/GMB_01/IMG_20200815_201943_HDR.jpg\n",
            "Data_Daun/GMB_01/IMG_20200815_201756_HDR.jpg\n",
            "Data_Daun/GMB_01/IMG_20200815_201951_HDR.jpg\n",
            "Data_Daun/GMB_01/IMG_20200827_201203.jpg\n",
            "Data_Daun/GMB_01/IMG_20200815_201716_HDR.jpg\n",
            "Data_Daun/GMB_01/IMG_20200815_201522_HDR.jpg\n",
            "Data_Daun/GMB_01/IMG_20200815_201326_HDR.jpg\n",
            "Data_Daun/GMB_01/IMG_20200814_132017_HDR.jpg\n",
            "Data_Daun/GMB_01/IMG_20200815_201436_HDR.jpg\n",
            "Data_Daun/GMB_01/IMG_20200827_200946.jpg\n",
            "Data_Daun/GMB_01/IMG_20200815_201252_HDR.jpg\n",
            "Data_Daun/GMB_01/IMG_20200814_132426_HDR.jpg\n",
            "Data_Daun/GMB_01/IMG_20200814_131721_HDR.jpg\n",
            "Data_Daun/GMB_01/IMG_20200815_201238_HDR.jpg\n",
            "Data_Daun/GMB_01/IMG_20200814_131850_HDR.jpg\n",
            "Data_Daun/GMB_01/IMG_20200815_201602_HDR.jpg\n",
            "Data_Daun/GMB_01/IMG_20200814_132059_HDR.jpg\n",
            "Data_Daun/GMB_01/IMG_20200814_132309_HDR.jpg\n",
            "Data_Daun/GMB_01/IMG_20200814_132225_HDR.jpg\n",
            "Data_Daun/GMB_01/IMG_20200814_131553_HDR.jpg\n",
            "Data_Daun/GMB_01/IMG_20200827_201006.jpg\n",
            "Data_Daun/GMB_01/IMG_20200815_201145_HDR.jpg\n",
            "Data_Daun/GMB_01/IMG_20200814_132349_HDR.jpg\n",
            "Data_Daun/GMB_01/IMG_20200827_201053.jpg\n",
            "Data_Daun/GMB_01/IMG_20200827_201126.jpg\n",
            "Data_Daun/GMB_01/IMG_20200815_201548_HDR.jpg\n",
            "Data_Daun/GMB_01/IMG_20200827_201223.jpg\n",
            "Data_Daun/GMB_01/IMG_20200815_201222_HDR.jpg\n",
            "Data_Daun/GMB_01/IMG_20200814_132501_HDR.jpg\n",
            "Data_Daun/GMB_01/IMG_20200827_200904.jpg\n",
            "Data_Daun/GMB_01/IMG_20200815_201404_HDR.jpg\n",
            "Data_Daun/GMB_01/IMG_20200815_201618_HDR.jpg\n",
            "Data_Daun/GMB_01/IMG_20200815_201440_HDR.jpg\n",
            "Data_Daun/GMB_01/IMG_20200815_201642_HDR.jpg\n",
            "Data_Daun/GMB_01/IMG_20200814_132228_HDR.jpg\n",
            "Data_Daun/GMB_02/IMG_20200827_202328.jpg\n",
            "Data_Daun/GMB_02/IMG_20200827_202251.jpg\n",
            "Data_Daun/GMB_02/IMG_20200827_201958.jpg\n",
            "Data_Daun/GMB_02/IMG_20200815_203527.jpg\n",
            "Data_Daun/GMB_02/IMG_20200815_204023.jpg\n",
            "Data_Daun/GMB_02/IMG_20200815_203511.jpg\n",
            "Data_Daun/GMB_02/IMG_20200815_203429.jpg\n",
            "Data_Daun/GMB_02/IMG_20200815_204056.jpg\n",
            "Data_Daun/GMB_02/IMG_20200815_203543.jpg\n",
            "Data_Daun/GMB_02/IMG_20200814_133555_HDR.jpg\n",
            "Data_Daun/GMB_02/IMG_20200827_202015.jpg\n",
            "Data_Daun/GMB_02/IMG_20200827_202237.jpg\n",
            "Data_Daun/GMB_02/IMG_20200814_133437_HDR.jpg\n",
            "Data_Daun/GMB_02/IMG_20200827_201848.jpg\n",
            "Data_Daun/GMB_02/IMG_20200827_202305.jpg\n",
            "Data_Daun/GMB_02/IMG_20200815_203353.jpg\n",
            "Data_Daun/GMB_02/IMG_20200827_202057.jpg\n",
            "Data_Daun/GMB_02/IMG_20200815_203635.jpg\n",
            "Data_Daun/GMB_02/IMG_20200815_203926.jpg\n",
            "Data_Daun/GMB_02/IMG_20200815_203621.jpg\n",
            "Data_Daun/GMB_02/IMG_20200827_202149.jpg\n",
            "Data_Daun/GMB_02/IMG_20200815_203410.jpg\n",
            "Data_Daun/GMB_02/IMG_20200814_133326_HDR.jpg\n",
            "Data_Daun/GMB_02/IMG_20200815_203945.jpg\n",
            "Data_Daun/GMB_02/IMG_20200827_202221.jpg\n",
            "Data_Daun/GMB_02/IMG_20200814_133524_HDR.jpg\n",
            "Data_Daun/GMB_02/IMG_20200815_203452.jpg\n",
            "Data_Daun/GMB_02/IMG_20200827_202111.jpg\n",
            "Data_Daun/GMB_02/IMG_20200815_203959.jpg\n",
            "Data_Daun/GMB_02/IMG_20200827_202317.jpg\n",
            "Data_Daun/GMB_02/IMG_20200815_203735.jpg\n",
            "Data_Daun/GMB_02/IMG_20200814_133506_HDR.jpg\n",
            "Data_Daun/GMB_02/IMG_20200815_203851.jpg\n",
            "Data_Daun/GMB_02/IMG_20200827_201909.jpg\n",
            "Data_Daun/GMB_02/IMG_20200815_203751.jpg\n",
            "Data_Daun/GMB_02/IMG_20200814_133401_HDR.jpg\n",
            "Data_Daun/GMB_02/IMG_20200815_203943.jpg\n",
            "Data_Daun/GMB_02/IMG_20200827_202135.jpg\n",
            "Data_Daun/GMB_02/IMG_20200815_203910.jpg\n",
            "Data_Daun/GMB_02/IMG_20200815_203835.jpg\n",
            "Data_Daun/GMB_02/IMG_20200827_202123.jpg\n",
            "Data_Daun/GMB_02/IMG_20200815_203722.jpg\n",
            "Data_Daun/GMB_02/IMG_20200827_202033.jpg\n",
            "Data_Daun/GMB_02/IMG_20200815_204041.jpg\n",
            "Data_Daun/GMB_02/IMG_20200815_203603.jpg\n",
            "Data_Daun/GMB_02/IMG_20200815_204054.jpg\n",
            "Data_Daun/GMB_02/IMG_20200827_201924.jpg\n",
            "Data_Daun/GMB_02/IMG_20200815_203654.jpg\n",
            "Data_Daun/GMB_02/IMG_20200827_201938.jpg\n",
            "Data_Daun/GMB_02/IMG_20200815_203711.jpg\n",
            "Data_Daun/GMB_03/IMG_20200827_202851.jpg\n",
            "Data_Daun/GMB_03/IMG_20200827_203147.jpg\n",
            "Data_Daun/GMB_03/IMG_20200827_202739.jpg\n",
            "Data_Daun/GMB_03/IMG_20200815_205453.jpg\n",
            "Data_Daun/GMB_03/IMG_20200827_202805.jpg\n",
            "Data_Daun/GMB_03/IMG_20200827_203010.jpg\n",
            "Data_Daun/GMB_03/IMG_20200827_202715.jpg\n",
            "Data_Daun/GMB_03/IMG_20200814_131242_HDR.jpg\n",
            "Data_Daun/GMB_03/IMG_20200815_205251.jpg\n",
            "Data_Daun/GMB_03/IMG_20200827_202908.jpg\n",
            "Data_Daun/GMB_03/IMG_20200815_204903.jpg\n",
            "Data_Daun/GMB_03/IMG_20200827_202958.jpg\n",
            "Data_Daun/GMB_03/IMG_20200827_203111.jpg\n",
            "Data_Daun/GMB_03/IMG_20200814_131440_HDR.jpg\n",
            "Data_Daun/GMB_03/IMG_20200815_205227.jpg\n",
            "Data_Daun/GMB_03/IMG_20200814_131106_HDR.jpg\n",
            "Data_Daun/GMB_03/IMG_20200827_202728.jpg\n",
            "Data_Daun/GMB_03/IMG_20200815_205219.jpg\n",
            "Data_Daun/GMB_03/IMG_20200827_202754.jpg\n",
            "Data_Daun/GMB_03/IMG_20200815_205445.jpg\n",
            "Data_Daun/GMB_03/IMG_20200815_205143.jpg\n",
            "Data_Daun/GMB_03/IMG_20200815_205304.jpg\n",
            "Data_Daun/GMB_03/IMG_20200815_205336.jpg\n",
            "Data_Daun/GMB_03/IMG_20200827_202833.jpg\n",
            "Data_Daun/GMB_03/IMG_20200827_202947.jpg\n",
            "Data_Daun/GMB_03/IMG_20200814_131007_HDR.jpg\n",
            "Data_Daun/GMB_03/IMG_20200827_203101.jpg\n",
            "Data_Daun/GMB_03/IMG_20200815_205235.jpg\n",
            "Data_Daun/GMB_03/IMG_20200815_205335.jpg\n",
            "Data_Daun/GMB_03/IMG_20200827_203036.jpg\n",
            "Data_Daun/GMB_03/IMG_20200815_205434.jpg\n",
            "Data_Daun/GMB_03/IMG_20200815_205134.jpg\n",
            "Data_Daun/GMB_03/IMG_20200815_205156.jpg\n",
            "Data_Daun/GMB_03/IMG_20200815_205402.jpg\n",
            "Data_Daun/GMB_03/IMG_20200815_205424.jpg\n",
            "Data_Daun/GMB_03/IMG_20200827_202818.jpg\n",
            "Data_Daun/GMB_03/IMG_20200827_203135.jpg\n",
            "Data_Daun/GMB_03/IMG_20200815_205108.jpg\n",
            "Data_Daun/GMB_03/IMG_20200827_202930.jpg\n",
            "Data_Daun/GMB_03/IMG_20200815_204953.jpg\n",
            "Data_Daun/GMB_03/IMG_20200827_203022.jpg\n",
            "Data_Daun/GMB_03/IMG_20200815_205129.jpg\n",
            "Data_Daun/GMB_03/IMG_20200827_203048.jpg\n",
            "Data_Daun/GMB_03/IMG_20200815_205006.jpg\n",
            "Data_Daun/GMB_03/IMG_20200814_130839_HDR.jpg\n",
            "Data_Daun/GMB_03/IMG_20200815_205413.jpg\n",
            "Data_Daun/GMB_03/IMG_20200815_205352.jpg\n",
            "Data_Daun/GMB_03/IMG_20200815_204924.jpg\n",
            "Data_Daun/GMB_03/IMG_20200815_205048.jpg\n",
            "Data_Daun/GMB_03/IMG_20200827_203123.jpg\n",
            "Data_Daun/GMB_04/IMG_20200827_203724.jpg\n",
            "Data_Daun/GMB_04/IMG_20200827_203654.jpg\n",
            "Data_Daun/GMB_04/IMG_20200827_203634.jpg\n",
            "Data_Daun/GMB_04/IMG_20200827_203740.jpg\n",
            "Data_Daun/GMB_04/IMG_20200827_203825.jpg\n",
            "Data_Daun/GMB_04/IMG_20200827_203712.jpg\n",
            "Data_Daun/GMB_04/IMG_20200827_203622.jpg\n",
            "Data_Daun/GMB_04/IMG_20200815_195945_HDR.jpg\n",
            "Data_Daun/GMB_04/IMG_20200815_195753_HDR.jpg\n",
            "Data_Daun/GMB_04/IMG_20200815_195835_HDR.jpg\n",
            "Data_Daun/GMB_04/IMG_20200815_195941_HDR.jpg\n",
            "Data_Daun/GMB_04/IMG_20200815_195708_HDR.jpg\n",
            "Data_Daun/GMB_04/IMG_20200827_203559.jpg\n",
            "Data_Daun/GMB_04/IMG_20200827_203755.jpg\n",
            "Data_Daun/GMB_04/IMG_20200815_195901_HDR.jpg\n",
            "Data_Daun/GMB_04/IMG_20200815_195600_HDR.jpg\n",
            "Data_Daun/GMB_04/IMG_20200815_195922_HDR.jpg\n",
            "Data_Daun/GMB_04/IMG_20200815_194809_HDR.jpg\n",
            "Data_Daun/GMB_04/IMG_20200815_195410_HDR.jpg\n",
            "Data_Daun/GMB_04/IMG_20200815_195153_HDR.jpg\n",
            "Data_Daun/GMB_04/IMG_20200815_194702_HDR.jpg\n",
            "Data_Daun/GMB_04/IMG_20200815_195606_HDR.jpg\n",
            "Data_Daun/GMB_04/IMG_20200815_195831_HDR.jpg\n",
            "Data_Daun/GMB_04/IMG_20200815_194635_HDR.jpg\n",
            "Data_Daun/GMB_04/IMG_20200815_194731_HDR.jpg\n",
            "Data_Daun/GMB_04/IMG_20200815_194842_HDR.jpg\n",
            "Data_Daun/GMB_04/IMG_20200815_194628_HDR.jpg\n",
            "Data_Daun/GMB_04/IMG_20200815_195235_HDR.jpg\n",
            "Data_Daun/GMB_04/IMG_20200815_194315_HDR.jpg\n",
            "Data_Daun/GMB_04/IMG_20200815_194046_HDR.jpg\n",
            "Data_Daun/GMB_04/IMG_20200815_195704_HDR.jpg\n",
            "Data_Daun/GMB_04/IMG_20200815_194119_HDR.jpg\n",
            "Data_Daun/GMB_04/IMG_20200815_194123_HDR.jpg\n",
            "Data_Daun/GMB_04/IMG_20200815_195114_HDR.jpg\n",
            "Data_Daun/GMB_04/IMG_20200814_133119_HDR.jpg\n",
            "Data_Daun/GMB_04/IMG_20200815_194230_HDR.jpg\n",
            "Data_Daun/GMB_04/IMG_20200815_194342_HDR.jpg\n",
            "Data_Daun/GMB_04/IMG_20200814_132956_HDR.jpg\n",
            "Data_Daun/GMB_04/IMG_20200814_133033_HDR.jpg\n",
            "Data_Daun/GMB_04/IMG_20200815_194951_HDR.jpg\n",
            "Data_Daun/GMB_04/IMG_20200815_194913_HDR.jpg\n",
            "Data_Daun/GMB_04/IMG_20200814_132929_HDR.jpg\n",
            "Data_Daun/GMB_04/IMG_20200815_195035_HDR.jpg\n",
            "Data_Daun/GMB_04/IMG_20200815_194436_HDR.jpg\n",
            "Data_Daun/GMB_04/IMG_20200814_132822_HDR.jpg\n",
            "Data_Daun/GMB_04/IMG_20200815_193910_HDR.jpg\n",
            "Data_Daun/GMB_04/IMG_20200815_194603_HDR.jpg\n",
            "Data_Daun/GMB_04/IMG_20200815_194237_HDR.jpg\n",
            "Data_Daun/GMB_04/IMG_20200815_194040_HDR.jpg\n",
            "Data_Daun/GMB_04/IMG_20200827_203809.jpg\n",
            "Data_Daun/GMB_05/IMG_20200827_204720.jpg\n",
            "Data_Daun/GMB_05/IMG_20200827_204710.jpg\n",
            "Data_Daun/GMB_05/IMG_20200827_204658.jpg\n",
            "Data_Daun/GMB_05/IMG_20200827_204642.jpg\n",
            "Data_Daun/GMB_05/IMG_20200827_204631.jpg\n",
            "Data_Daun/GMB_05/IMG_20200827_204603.jpg\n",
            "Data_Daun/GMB_05/IMG_20200827_204620.jpg\n",
            "Data_Daun/GMB_05/IMG_20200827_204547.jpg\n",
            "Data_Daun/GMB_05/IMG_20200827_204537.jpg\n",
            "Data_Daun/GMB_05/IMG_20200827_204524.jpg\n",
            "Data_Daun/GMB_05/IMG_20200827_204507.jpg\n",
            "Data_Daun/GMB_05/IMG_20200814_123628_HDR.jpg\n",
            "Data_Daun/GMB_05/IMG_20200814_123508_HDR.jpg\n",
            "Data_Daun/GMB_05/IMG_20200814_123513_HDR.jpg\n",
            "Data_Daun/GMB_05/IMG_20200814_123435_HDR.jpg\n",
            "Data_Daun/GMB_05/IMG_20200814_123348_HDR.jpg\n",
            "Data_Daun/GMB_05/IMG_20200814_123411_HDR.jpg\n",
            "Data_Daun/GMB_05/IMG_20200814_123323_HDR.jpg\n",
            "Data_Daun/GMB_05/IMG_20200814_123317_HDR.jpg\n",
            "Data_Daun/GMB_05/IMG_20200814_123229_HDR.jpg\n",
            "Data_Daun/GMB_05/IMG_20200814_123203_HDR.jpg\n",
            "Data_Daun/GMB_05/IMG_20200814_123135_HDR.jpg\n",
            "Data_Daun/GMB_05/IMG_20200814_123038_HDR.jpg\n",
            "Data_Daun/GMB_05/IMG_20200814_122907_HDR.jpg\n",
            "Data_Daun/GMB_05/IMG_20200814_122914_HDR.jpg\n",
            "Data_Daun/GMB_05/IMG_20200814_123110_HDR.jpg\n",
            "Data_Daun/GMB_05/IMG_20200814_123032_HDR.jpg\n",
            "Data_Daun/GMB_05/IMG_20200814_122747_HDR.jpg\n",
            "Data_Daun/GMB_05/IMG_20200814_122752_HDR.jpg\n",
            "Data_Daun/GMB_05/IMG_20200814_122653_HDR.jpg\n",
            "Data_Daun/GMB_05/IMG_20200814_122628_HDR.jpg\n",
            "Data_Daun/GMB_05/IMG_20200814_122624_HDR.jpg\n",
            "Data_Daun/GMB_05/IMG_20200814_122725_HDR.jpg\n",
            "Data_Daun/GMB_05/IMG_20200814_122525_HDR.jpg\n",
            "Data_Daun/GMB_05/IMG_20200814_122457_HDR.jpg\n",
            "Data_Daun/GMB_05/IMG_20200814_122453_HDR.jpg\n",
            "Data_Daun/GMB_05/IMG_20200814_122414_HDR.jpg\n",
            "Data_Daun/GMB_05/IMG_20200814_122310_HDR.jpg\n",
            "Data_Daun/GMB_05/IMG_20200814_122221_HDR.jpg\n",
            "Data_Daun/GMB_05/IMG_20200814_122109_HDR.jpg\n",
            "Data_Daun/GMB_05/IMG_20200814_122202_HDR.jpg\n",
            "Data_Daun/GMB_05/IMG_20200814_122035_HDR.jpg\n",
            "Data_Daun/GMB_05/IMG_20200814_122028_HDR.jpg\n",
            "Data_Daun/GMB_05/IMG_20200814_121948_HDR.jpg\n",
            "Data_Daun/GMB_05/IMG_20200814_121915_HDR.jpg\n",
            "Data_Daun/GMB_05/IMG_20200814_123551_HDR.jpg\n",
            "Data_Daun/GMB_05/IMG_20200814_122345_HDR.jpg\n",
            "Data_Daun/GMB_05/IMG_20200814_122946_HDR.jpg\n",
            "Data_Daun/GMB_05/IMG_20200814_122830_HDR.jpg\n",
            "Data_Daun/GMB_05/IMG_20200814_123256_HDR.jpg\n"
          ],
          "name": "stdout"
        }
      ]
    },
    {
      "cell_type": "markdown",
      "metadata": {
        "id": "Udy9A9IJcqfd"
      },
      "source": [
        "**Mengubah Ukuran**"
      ]
    },
    {
      "cell_type": "code",
      "metadata": {
        "id": "Cch_E2CvSPf3"
      },
      "source": [
        "# loop over our input images\n",
        "for imagePath in imagePaths:\n",
        "\t# load the input image from disk, resize it to 64x64 pixels, scale\n",
        "\t# the pixel intensities to the range [0, 1], and then update our\n",
        "\t# images list\n",
        "\timage = Image.open(imagePath)\n",
        "\timage = np.array(image.resize((224, 224))) / 255.0\n",
        "\tdata.append(image)\n",
        "\t# extract the class label from the file path and update the\n",
        "\t# labels list\n",
        "\tlabel = imagePath.split(os.path.sep)[-2]\n",
        "\tlabels.append(label)\n"
      ],
      "execution_count": null,
      "outputs": []
    },
    {
      "cell_type": "code",
      "metadata": {
        "colab": {
          "base_uri": "https://localhost:8080/"
        },
        "id": "9UJvgN5iltYT",
        "outputId": "50c21556-26ce-4dd3-bc1f-2971ea31768c"
      },
      "source": [
        "print(labels)\n"
      ],
      "execution_count": null,
      "outputs": [
        {
          "output_type": "stream",
          "text": [
            "['GMB_01', 'GMB_01', 'GMB_01', 'GMB_01', 'GMB_01', 'GMB_01', 'GMB_01', 'GMB_01', 'GMB_01', 'GMB_01', 'GMB_01', 'GMB_01', 'GMB_01', 'GMB_01', 'GMB_01', 'GMB_01', 'GMB_01', 'GMB_01', 'GMB_01', 'GMB_01', 'GMB_01', 'GMB_01', 'GMB_01', 'GMB_01', 'GMB_01', 'GMB_01', 'GMB_01', 'GMB_01', 'GMB_01', 'GMB_01', 'GMB_01', 'GMB_01', 'GMB_01', 'GMB_01', 'GMB_01', 'GMB_01', 'GMB_01', 'GMB_01', 'GMB_01', 'GMB_01', 'GMB_01', 'GMB_01', 'GMB_01', 'GMB_01', 'GMB_01', 'GMB_01', 'GMB_01', 'GMB_01', 'GMB_01', 'GMB_01', 'GMB_02', 'GMB_02', 'GMB_02', 'GMB_02', 'GMB_02', 'GMB_02', 'GMB_02', 'GMB_02', 'GMB_02', 'GMB_02', 'GMB_02', 'GMB_02', 'GMB_02', 'GMB_02', 'GMB_02', 'GMB_02', 'GMB_02', 'GMB_02', 'GMB_02', 'GMB_02', 'GMB_02', 'GMB_02', 'GMB_02', 'GMB_02', 'GMB_02', 'GMB_02', 'GMB_02', 'GMB_02', 'GMB_02', 'GMB_02', 'GMB_02', 'GMB_02', 'GMB_02', 'GMB_02', 'GMB_02', 'GMB_02', 'GMB_02', 'GMB_02', 'GMB_02', 'GMB_02', 'GMB_02', 'GMB_02', 'GMB_02', 'GMB_02', 'GMB_02', 'GMB_02', 'GMB_02', 'GMB_02', 'GMB_02', 'GMB_02', 'GMB_03', 'GMB_03', 'GMB_03', 'GMB_03', 'GMB_03', 'GMB_03', 'GMB_03', 'GMB_03', 'GMB_03', 'GMB_03', 'GMB_03', 'GMB_03', 'GMB_03', 'GMB_03', 'GMB_03', 'GMB_03', 'GMB_03', 'GMB_03', 'GMB_03', 'GMB_03', 'GMB_03', 'GMB_03', 'GMB_03', 'GMB_03', 'GMB_03', 'GMB_03', 'GMB_03', 'GMB_03', 'GMB_03', 'GMB_03', 'GMB_03', 'GMB_03', 'GMB_03', 'GMB_03', 'GMB_03', 'GMB_03', 'GMB_03', 'GMB_03', 'GMB_03', 'GMB_03', 'GMB_03', 'GMB_03', 'GMB_03', 'GMB_03', 'GMB_03', 'GMB_03', 'GMB_03', 'GMB_03', 'GMB_03', 'GMB_03', 'GMB_04', 'GMB_04', 'GMB_04', 'GMB_04', 'GMB_04', 'GMB_04', 'GMB_04', 'GMB_04', 'GMB_04', 'GMB_04', 'GMB_04', 'GMB_04', 'GMB_04', 'GMB_04', 'GMB_04', 'GMB_04', 'GMB_04', 'GMB_04', 'GMB_04', 'GMB_04', 'GMB_04', 'GMB_04', 'GMB_04', 'GMB_04', 'GMB_04', 'GMB_04', 'GMB_04', 'GMB_04', 'GMB_04', 'GMB_04', 'GMB_04', 'GMB_04', 'GMB_04', 'GMB_04', 'GMB_04', 'GMB_04', 'GMB_04', 'GMB_04', 'GMB_04', 'GMB_04', 'GMB_04', 'GMB_04', 'GMB_04', 'GMB_04', 'GMB_04', 'GMB_04', 'GMB_04', 'GMB_04', 'GMB_04', 'GMB_04', 'GMB_05', 'GMB_05', 'GMB_05', 'GMB_05', 'GMB_05', 'GMB_05', 'GMB_05', 'GMB_05', 'GMB_05', 'GMB_05', 'GMB_05', 'GMB_05', 'GMB_05', 'GMB_05', 'GMB_05', 'GMB_05', 'GMB_05', 'GMB_05', 'GMB_05', 'GMB_05', 'GMB_05', 'GMB_05', 'GMB_05', 'GMB_05', 'GMB_05', 'GMB_05', 'GMB_05', 'GMB_05', 'GMB_05', 'GMB_05', 'GMB_05', 'GMB_05', 'GMB_05', 'GMB_05', 'GMB_05', 'GMB_05', 'GMB_05', 'GMB_05', 'GMB_05', 'GMB_05', 'GMB_05', 'GMB_05', 'GMB_05', 'GMB_05', 'GMB_05', 'GMB_05', 'GMB_05', 'GMB_05', 'GMB_05', 'GMB_05']\n"
          ],
          "name": "stdout"
        }
      ]
    },
    {
      "cell_type": "markdown",
      "metadata": {
        "id": "IgN5ox5ndT14"
      },
      "source": [
        "**Melakukan Encoding Label**"
      ]
    },
    {
      "cell_type": "code",
      "metadata": {
        "id": "TdpVyRsOdYdK",
        "colab": {
          "base_uri": "https://localhost:8080/"
        },
        "outputId": "f6cb2c10-1066-433c-a7b6-b9ed68ba6541"
      },
      "source": [
        "# encode the labels, converting them from strings to integers\n",
        "lb = LabelBinarizer()\n",
        "labels = lb.fit_transform(labels)\n",
        "print(labels.shape)"
      ],
      "execution_count": null,
      "outputs": [
        {
          "output_type": "stream",
          "text": [
            "(250, 5)\n"
          ],
          "name": "stdout"
        }
      ]
    },
    {
      "cell_type": "markdown",
      "metadata": {
        "id": "uRjPWnxic7XJ"
      },
      "source": [
        "**Membagi DataSet kedalam (Test dan Train)**"
      ]
    },
    {
      "cell_type": "code",
      "metadata": {
        "id": "mubboYqucu8v",
        "colab": {
          "base_uri": "https://localhost:8080/"
        },
        "outputId": "00e322d1-3f52-4f74-fad6-53176ff88ebd"
      },
      "source": [
        "# perform a training and testing split, using 75% of the data for\n",
        "# training and 25% for evaluation\n",
        "x_train,x_val,y_train,y_val=train_test_split(np.array(data),\tnp.array(labels), test_size=0.25)\n",
        "x_test=np.array(data)\n",
        "y_test=np.array(labels)\n",
        "print((x_train.shape,y_train.shape))\n",
        "print((x_val.shape,y_val.shape))\n",
        "print((x_test.shape,y_test.shape))"
      ],
      "execution_count": null,
      "outputs": [
        {
          "output_type": "stream",
          "text": [
            "((187, 224, 224, 3), (187, 5))\n",
            "((63, 224, 224, 3), (63, 5))\n",
            "((250, 224, 224, 3), (250, 5))\n"
          ],
          "name": "stdout"
        }
      ]
    },
    {
      "cell_type": "markdown",
      "metadata": {
        "id": "RCdyDwC6jT4o"
      },
      "source": [
        "**Membangun Model**"
      ]
    },
    {
      "cell_type": "code",
      "metadata": {
        "id": "EavHP6mHjVV_",
        "colab": {
          "base_uri": "https://localhost:8080/"
        },
        "outputId": "fd81f2d0-b4fa-40ad-97ce-3ba71ae85490"
      },
      "source": [
        "from keras.layers import Dropout\n",
        "base_model = MobileNet(weights='imagenet', include_top=False)\n",
        "x = base_model.output\n",
        "x = GlobalAveragePooling2D()(x)\n",
        "x = Dropout(0.2)(x)\n",
        "x = BatchNormalization()(x)\n",
        "x = Dense(2048, activation='relu')(x)\n",
        "out = Dense(5, activation='softmax')(x)\n",
        "\n",
        "model = Model(inputs=base_model.input, outputs=out)\n",
        "model.summary()"
      ],
      "execution_count": null,
      "outputs": [
        {
          "output_type": "stream",
          "text": [
            "WARNING:tensorflow:`input_shape` is undefined or non-square, or `rows` is not in [128, 160, 192, 224]. Weights for input shape (224, 224) will be loaded as the default.\n",
            "Model: \"functional_13\"\n",
            "_________________________________________________________________\n",
            "Layer (type)                 Output Shape              Param #   \n",
            "=================================================================\n",
            "input_9 (InputLayer)         [(None, None, None, 3)]   0         \n",
            "_________________________________________________________________\n",
            "conv1_pad (ZeroPadding2D)    (None, None, None, 3)     0         \n",
            "_________________________________________________________________\n",
            "conv1 (Conv2D)               (None, None, None, 32)    864       \n",
            "_________________________________________________________________\n",
            "conv1_bn (BatchNormalization (None, None, None, 32)    128       \n",
            "_________________________________________________________________\n",
            "conv1_relu (ReLU)            (None, None, None, 32)    0         \n",
            "_________________________________________________________________\n",
            "conv_dw_1 (DepthwiseConv2D)  (None, None, None, 32)    288       \n",
            "_________________________________________________________________\n",
            "conv_dw_1_bn (BatchNormaliza (None, None, None, 32)    128       \n",
            "_________________________________________________________________\n",
            "conv_dw_1_relu (ReLU)        (None, None, None, 32)    0         \n",
            "_________________________________________________________________\n",
            "conv_pw_1 (Conv2D)           (None, None, None, 64)    2048      \n",
            "_________________________________________________________________\n",
            "conv_pw_1_bn (BatchNormaliza (None, None, None, 64)    256       \n",
            "_________________________________________________________________\n",
            "conv_pw_1_relu (ReLU)        (None, None, None, 64)    0         \n",
            "_________________________________________________________________\n",
            "conv_pad_2 (ZeroPadding2D)   (None, None, None, 64)    0         \n",
            "_________________________________________________________________\n",
            "conv_dw_2 (DepthwiseConv2D)  (None, None, None, 64)    576       \n",
            "_________________________________________________________________\n",
            "conv_dw_2_bn (BatchNormaliza (None, None, None, 64)    256       \n",
            "_________________________________________________________________\n",
            "conv_dw_2_relu (ReLU)        (None, None, None, 64)    0         \n",
            "_________________________________________________________________\n",
            "conv_pw_2 (Conv2D)           (None, None, None, 128)   8192      \n",
            "_________________________________________________________________\n",
            "conv_pw_2_bn (BatchNormaliza (None, None, None, 128)   512       \n",
            "_________________________________________________________________\n",
            "conv_pw_2_relu (ReLU)        (None, None, None, 128)   0         \n",
            "_________________________________________________________________\n",
            "conv_dw_3 (DepthwiseConv2D)  (None, None, None, 128)   1152      \n",
            "_________________________________________________________________\n",
            "conv_dw_3_bn (BatchNormaliza (None, None, None, 128)   512       \n",
            "_________________________________________________________________\n",
            "conv_dw_3_relu (ReLU)        (None, None, None, 128)   0         \n",
            "_________________________________________________________________\n",
            "conv_pw_3 (Conv2D)           (None, None, None, 128)   16384     \n",
            "_________________________________________________________________\n",
            "conv_pw_3_bn (BatchNormaliza (None, None, None, 128)   512       \n",
            "_________________________________________________________________\n",
            "conv_pw_3_relu (ReLU)        (None, None, None, 128)   0         \n",
            "_________________________________________________________________\n",
            "conv_pad_4 (ZeroPadding2D)   (None, None, None, 128)   0         \n",
            "_________________________________________________________________\n",
            "conv_dw_4 (DepthwiseConv2D)  (None, None, None, 128)   1152      \n",
            "_________________________________________________________________\n",
            "conv_dw_4_bn (BatchNormaliza (None, None, None, 128)   512       \n",
            "_________________________________________________________________\n",
            "conv_dw_4_relu (ReLU)        (None, None, None, 128)   0         \n",
            "_________________________________________________________________\n",
            "conv_pw_4 (Conv2D)           (None, None, None, 256)   32768     \n",
            "_________________________________________________________________\n",
            "conv_pw_4_bn (BatchNormaliza (None, None, None, 256)   1024      \n",
            "_________________________________________________________________\n",
            "conv_pw_4_relu (ReLU)        (None, None, None, 256)   0         \n",
            "_________________________________________________________________\n",
            "conv_dw_5 (DepthwiseConv2D)  (None, None, None, 256)   2304      \n",
            "_________________________________________________________________\n",
            "conv_dw_5_bn (BatchNormaliza (None, None, None, 256)   1024      \n",
            "_________________________________________________________________\n",
            "conv_dw_5_relu (ReLU)        (None, None, None, 256)   0         \n",
            "_________________________________________________________________\n",
            "conv_pw_5 (Conv2D)           (None, None, None, 256)   65536     \n",
            "_________________________________________________________________\n",
            "conv_pw_5_bn (BatchNormaliza (None, None, None, 256)   1024      \n",
            "_________________________________________________________________\n",
            "conv_pw_5_relu (ReLU)        (None, None, None, 256)   0         \n",
            "_________________________________________________________________\n",
            "conv_pad_6 (ZeroPadding2D)   (None, None, None, 256)   0         \n",
            "_________________________________________________________________\n",
            "conv_dw_6 (DepthwiseConv2D)  (None, None, None, 256)   2304      \n",
            "_________________________________________________________________\n",
            "conv_dw_6_bn (BatchNormaliza (None, None, None, 256)   1024      \n",
            "_________________________________________________________________\n",
            "conv_dw_6_relu (ReLU)        (None, None, None, 256)   0         \n",
            "_________________________________________________________________\n",
            "conv_pw_6 (Conv2D)           (None, None, None, 512)   131072    \n",
            "_________________________________________________________________\n",
            "conv_pw_6_bn (BatchNormaliza (None, None, None, 512)   2048      \n",
            "_________________________________________________________________\n",
            "conv_pw_6_relu (ReLU)        (None, None, None, 512)   0         \n",
            "_________________________________________________________________\n",
            "conv_dw_7 (DepthwiseConv2D)  (None, None, None, 512)   4608      \n",
            "_________________________________________________________________\n",
            "conv_dw_7_bn (BatchNormaliza (None, None, None, 512)   2048      \n",
            "_________________________________________________________________\n",
            "conv_dw_7_relu (ReLU)        (None, None, None, 512)   0         \n",
            "_________________________________________________________________\n",
            "conv_pw_7 (Conv2D)           (None, None, None, 512)   262144    \n",
            "_________________________________________________________________\n",
            "conv_pw_7_bn (BatchNormaliza (None, None, None, 512)   2048      \n",
            "_________________________________________________________________\n",
            "conv_pw_7_relu (ReLU)        (None, None, None, 512)   0         \n",
            "_________________________________________________________________\n",
            "conv_dw_8 (DepthwiseConv2D)  (None, None, None, 512)   4608      \n",
            "_________________________________________________________________\n",
            "conv_dw_8_bn (BatchNormaliza (None, None, None, 512)   2048      \n",
            "_________________________________________________________________\n",
            "conv_dw_8_relu (ReLU)        (None, None, None, 512)   0         \n",
            "_________________________________________________________________\n",
            "conv_pw_8 (Conv2D)           (None, None, None, 512)   262144    \n",
            "_________________________________________________________________\n",
            "conv_pw_8_bn (BatchNormaliza (None, None, None, 512)   2048      \n",
            "_________________________________________________________________\n",
            "conv_pw_8_relu (ReLU)        (None, None, None, 512)   0         \n",
            "_________________________________________________________________\n",
            "conv_dw_9 (DepthwiseConv2D)  (None, None, None, 512)   4608      \n",
            "_________________________________________________________________\n",
            "conv_dw_9_bn (BatchNormaliza (None, None, None, 512)   2048      \n",
            "_________________________________________________________________\n",
            "conv_dw_9_relu (ReLU)        (None, None, None, 512)   0         \n",
            "_________________________________________________________________\n",
            "conv_pw_9 (Conv2D)           (None, None, None, 512)   262144    \n",
            "_________________________________________________________________\n",
            "conv_pw_9_bn (BatchNormaliza (None, None, None, 512)   2048      \n",
            "_________________________________________________________________\n",
            "conv_pw_9_relu (ReLU)        (None, None, None, 512)   0         \n",
            "_________________________________________________________________\n",
            "conv_dw_10 (DepthwiseConv2D) (None, None, None, 512)   4608      \n",
            "_________________________________________________________________\n",
            "conv_dw_10_bn (BatchNormaliz (None, None, None, 512)   2048      \n",
            "_________________________________________________________________\n",
            "conv_dw_10_relu (ReLU)       (None, None, None, 512)   0         \n",
            "_________________________________________________________________\n",
            "conv_pw_10 (Conv2D)          (None, None, None, 512)   262144    \n",
            "_________________________________________________________________\n",
            "conv_pw_10_bn (BatchNormaliz (None, None, None, 512)   2048      \n",
            "_________________________________________________________________\n",
            "conv_pw_10_relu (ReLU)       (None, None, None, 512)   0         \n",
            "_________________________________________________________________\n",
            "conv_dw_11 (DepthwiseConv2D) (None, None, None, 512)   4608      \n",
            "_________________________________________________________________\n",
            "conv_dw_11_bn (BatchNormaliz (None, None, None, 512)   2048      \n",
            "_________________________________________________________________\n",
            "conv_dw_11_relu (ReLU)       (None, None, None, 512)   0         \n",
            "_________________________________________________________________\n",
            "conv_pw_11 (Conv2D)          (None, None, None, 512)   262144    \n",
            "_________________________________________________________________\n",
            "conv_pw_11_bn (BatchNormaliz (None, None, None, 512)   2048      \n",
            "_________________________________________________________________\n",
            "conv_pw_11_relu (ReLU)       (None, None, None, 512)   0         \n",
            "_________________________________________________________________\n",
            "conv_pad_12 (ZeroPadding2D)  (None, None, None, 512)   0         \n",
            "_________________________________________________________________\n",
            "conv_dw_12 (DepthwiseConv2D) (None, None, None, 512)   4608      \n",
            "_________________________________________________________________\n",
            "conv_dw_12_bn (BatchNormaliz (None, None, None, 512)   2048      \n",
            "_________________________________________________________________\n",
            "conv_dw_12_relu (ReLU)       (None, None, None, 512)   0         \n",
            "_________________________________________________________________\n",
            "conv_pw_12 (Conv2D)          (None, None, None, 1024)  524288    \n",
            "_________________________________________________________________\n",
            "conv_pw_12_bn (BatchNormaliz (None, None, None, 1024)  4096      \n",
            "_________________________________________________________________\n",
            "conv_pw_12_relu (ReLU)       (None, None, None, 1024)  0         \n",
            "_________________________________________________________________\n",
            "conv_dw_13 (DepthwiseConv2D) (None, None, None, 1024)  9216      \n",
            "_________________________________________________________________\n",
            "conv_dw_13_bn (BatchNormaliz (None, None, None, 1024)  4096      \n",
            "_________________________________________________________________\n",
            "conv_dw_13_relu (ReLU)       (None, None, None, 1024)  0         \n",
            "_________________________________________________________________\n",
            "conv_pw_13 (Conv2D)          (None, None, None, 1024)  1048576   \n",
            "_________________________________________________________________\n",
            "conv_pw_13_bn (BatchNormaliz (None, None, None, 1024)  4096      \n",
            "_________________________________________________________________\n",
            "conv_pw_13_relu (ReLU)       (None, None, None, 1024)  0         \n",
            "_________________________________________________________________\n",
            "global_average_pooling2d_6 ( (None, 1024)              0         \n",
            "_________________________________________________________________\n",
            "dropout_10 (Dropout)         (None, 1024)              0         \n",
            "_________________________________________________________________\n",
            "batch_normalization_6 (Batch (None, 1024)              4096      \n",
            "_________________________________________________________________\n",
            "dense_31 (Dense)             (None, 2048)              2099200   \n",
            "_________________________________________________________________\n",
            "dense_32 (Dense)             (None, 5)                 10245     \n",
            "=================================================================\n",
            "Total params: 5,342,405\n",
            "Trainable params: 5,318,469\n",
            "Non-trainable params: 23,936\n",
            "_________________________________________________________________\n"
          ],
          "name": "stdout"
        }
      ]
    },
    {
      "cell_type": "markdown",
      "metadata": {
        "id": "HBWueJsgjt3A"
      },
      "source": [
        "**Mengkompile Model**"
      ]
    },
    {
      "cell_type": "code",
      "metadata": {
        "id": "ucC07nhooVM3"
      },
      "source": [
        "\n",
        "es = EarlyStopping(monitor='val_loss',\n",
        "                   patience=10,\n",
        "                   mode='auto',\n",
        "                   restore_best_weights=True)\n",
        "checkpoint = ModelCheckpoint('best_weight_scene_mobileNet.h5',\n",
        "                             monitor='val_accuracy',\n",
        "                             verbose=1,\n",
        "                             save_best_only=True,\n",
        "                             mode='auto',)"
      ],
      "execution_count": null,
      "outputs": []
    },
    {
      "cell_type": "code",
      "metadata": {
        "id": "WkCa5706juHd",
        "colab": {
          "base_uri": "https://localhost:8080/"
        },
        "outputId": "4b493b55-160f-4466-bdac-bb8c1f263eb6"
      },
      "source": [
        "print(\"[INFO] training network...\")\n",
        "opt = Adam(lr=1e-4, decay=1e-3/ 50)\n",
        "\n",
        "model.compile(loss=\"categorical_crossentropy\", optimizer=opt,\n",
        "\tmetrics=[\"accuracy\"])\n",
        "H = model.fit(x_train, y_train, validation_data=(x_test, y_test), epochs=100, batch_size=32, callbacks=[es, checkpoint])"
      ],
      "execution_count": null,
      "outputs": [
        {
          "output_type": "stream",
          "text": [
            "[INFO] training network...\n",
            "Epoch 1/100\n",
            "2/6 [=========>....................] - ETA: 0s - loss: 1.9760 - accuracy: 0.1719WARNING:tensorflow:Callbacks method `on_train_batch_end` is slow compared to the batch time (batch time: 0.0489s vs `on_train_batch_end` time: 0.1523s). Check your callbacks.\n",
            "6/6 [==============================] - ETA: 0s - loss: 1.4734 - accuracy: 0.3904\n",
            "Epoch 00001: val_accuracy improved from -inf to 0.39600, saving model to best_weight_scene_mobileNet.h5\n",
            "6/6 [==============================] - 2s 408ms/step - loss: 1.4734 - accuracy: 0.3904 - val_loss: 1.3850 - val_accuracy: 0.3960\n",
            "Epoch 2/100\n",
            "6/6 [==============================] - ETA: 0s - loss: 0.3430 - accuracy: 0.9251\n",
            "Epoch 00002: val_accuracy did not improve from 0.39600\n",
            "6/6 [==============================] - 1s 210ms/step - loss: 0.3430 - accuracy: 0.9251 - val_loss: 1.2479 - val_accuracy: 0.3840\n",
            "Epoch 3/100\n",
            "6/6 [==============================] - ETA: 0s - loss: 0.1432 - accuracy: 0.9840\n",
            "Epoch 00003: val_accuracy did not improve from 0.39600\n",
            "6/6 [==============================] - 1s 213ms/step - loss: 0.1432 - accuracy: 0.9840 - val_loss: 1.2401 - val_accuracy: 0.3200\n",
            "Epoch 4/100\n",
            "6/6 [==============================] - ETA: 0s - loss: 0.0401 - accuracy: 1.0000\n",
            "Epoch 00004: val_accuracy did not improve from 0.39600\n",
            "6/6 [==============================] - 1s 215ms/step - loss: 0.0401 - accuracy: 1.0000 - val_loss: 1.2346 - val_accuracy: 0.3360\n",
            "Epoch 5/100\n",
            "6/6 [==============================] - ETA: 0s - loss: 0.0245 - accuracy: 1.0000\n",
            "Epoch 00005: val_accuracy did not improve from 0.39600\n",
            "6/6 [==============================] - 1s 212ms/step - loss: 0.0245 - accuracy: 1.0000 - val_loss: 1.2020 - val_accuracy: 0.3840\n",
            "Epoch 6/100\n",
            "6/6 [==============================] - ETA: 0s - loss: 0.0191 - accuracy: 1.0000\n",
            "Epoch 00006: val_accuracy improved from 0.39600 to 0.43600, saving model to best_weight_scene_mobileNet.h5\n",
            "6/6 [==============================] - 2s 298ms/step - loss: 0.0191 - accuracy: 1.0000 - val_loss: 1.1475 - val_accuracy: 0.4360\n",
            "Epoch 7/100\n",
            "6/6 [==============================] - ETA: 0s - loss: 0.0110 - accuracy: 1.0000\n",
            "Epoch 00007: val_accuracy improved from 0.43600 to 0.47600, saving model to best_weight_scene_mobileNet.h5\n",
            "6/6 [==============================] - 2s 338ms/step - loss: 0.0110 - accuracy: 1.0000 - val_loss: 1.0786 - val_accuracy: 0.4760\n",
            "Epoch 8/100\n",
            "6/6 [==============================] - ETA: 0s - loss: 0.0120 - accuracy: 1.0000\n",
            "Epoch 00008: val_accuracy improved from 0.47600 to 0.52000, saving model to best_weight_scene_mobileNet.h5\n",
            "6/6 [==============================] - 2s 350ms/step - loss: 0.0120 - accuracy: 1.0000 - val_loss: 1.0100 - val_accuracy: 0.5200\n",
            "Epoch 9/100\n",
            "6/6 [==============================] - ETA: 0s - loss: 0.0074 - accuracy: 1.0000\n",
            "Epoch 00009: val_accuracy improved from 0.52000 to 0.56800, saving model to best_weight_scene_mobileNet.h5\n",
            "6/6 [==============================] - 2s 308ms/step - loss: 0.0074 - accuracy: 1.0000 - val_loss: 0.9369 - val_accuracy: 0.5680\n",
            "Epoch 10/100\n",
            "6/6 [==============================] - ETA: 0s - loss: 0.0051 - accuracy: 1.0000\n",
            "Epoch 00010: val_accuracy improved from 0.56800 to 0.60000, saving model to best_weight_scene_mobileNet.h5\n",
            "6/6 [==============================] - 2s 300ms/step - loss: 0.0051 - accuracy: 1.0000 - val_loss: 0.8606 - val_accuracy: 0.6000\n",
            "Epoch 11/100\n",
            "6/6 [==============================] - ETA: 0s - loss: 0.0045 - accuracy: 1.0000\n",
            "Epoch 00011: val_accuracy improved from 0.60000 to 0.66400, saving model to best_weight_scene_mobileNet.h5\n",
            "6/6 [==============================] - 2s 339ms/step - loss: 0.0045 - accuracy: 1.0000 - val_loss: 0.7869 - val_accuracy: 0.6640\n",
            "Epoch 12/100\n",
            "6/6 [==============================] - ETA: 0s - loss: 0.0049 - accuracy: 1.0000\n",
            "Epoch 00012: val_accuracy improved from 0.66400 to 0.71200, saving model to best_weight_scene_mobileNet.h5\n",
            "6/6 [==============================] - 2s 357ms/step - loss: 0.0049 - accuracy: 1.0000 - val_loss: 0.7182 - val_accuracy: 0.7120\n",
            "Epoch 13/100\n",
            "6/6 [==============================] - ETA: 0s - loss: 0.0045 - accuracy: 1.0000\n",
            "Epoch 00013: val_accuracy improved from 0.71200 to 0.74800, saving model to best_weight_scene_mobileNet.h5\n",
            "6/6 [==============================] - 2s 309ms/step - loss: 0.0045 - accuracy: 1.0000 - val_loss: 0.6518 - val_accuracy: 0.7480\n",
            "Epoch 14/100\n",
            "6/6 [==============================] - ETA: 0s - loss: 0.0033 - accuracy: 1.0000\n",
            "Epoch 00014: val_accuracy improved from 0.74800 to 0.78000, saving model to best_weight_scene_mobileNet.h5\n",
            "6/6 [==============================] - 2s 345ms/step - loss: 0.0033 - accuracy: 1.0000 - val_loss: 0.5903 - val_accuracy: 0.7800\n",
            "Epoch 15/100\n",
            "6/6 [==============================] - ETA: 0s - loss: 0.0035 - accuracy: 1.0000\n",
            "Epoch 00015: val_accuracy improved from 0.78000 to 0.80400, saving model to best_weight_scene_mobileNet.h5\n",
            "6/6 [==============================] - 2s 296ms/step - loss: 0.0035 - accuracy: 1.0000 - val_loss: 0.5360 - val_accuracy: 0.8040\n",
            "Epoch 16/100\n",
            "6/6 [==============================] - ETA: 0s - loss: 0.0033 - accuracy: 1.0000\n",
            "Epoch 00016: val_accuracy improved from 0.80400 to 0.83600, saving model to best_weight_scene_mobileNet.h5\n",
            "6/6 [==============================] - 2s 338ms/step - loss: 0.0033 - accuracy: 1.0000 - val_loss: 0.4869 - val_accuracy: 0.8360\n",
            "Epoch 17/100\n",
            "6/6 [==============================] - ETA: 0s - loss: 0.0032 - accuracy: 1.0000\n",
            "Epoch 00017: val_accuracy improved from 0.83600 to 0.84000, saving model to best_weight_scene_mobileNet.h5\n",
            "6/6 [==============================] - 2s 344ms/step - loss: 0.0032 - accuracy: 1.0000 - val_loss: 0.4424 - val_accuracy: 0.8400\n",
            "Epoch 18/100\n",
            "6/6 [==============================] - ETA: 0s - loss: 0.0025 - accuracy: 1.0000\n",
            "Epoch 00018: val_accuracy improved from 0.84000 to 0.86400, saving model to best_weight_scene_mobileNet.h5\n",
            "6/6 [==============================] - 2s 298ms/step - loss: 0.0025 - accuracy: 1.0000 - val_loss: 0.4017 - val_accuracy: 0.8640\n",
            "Epoch 19/100\n",
            "6/6 [==============================] - ETA: 0s - loss: 0.0034 - accuracy: 1.0000\n",
            "Epoch 00019: val_accuracy improved from 0.86400 to 0.88000, saving model to best_weight_scene_mobileNet.h5\n",
            "6/6 [==============================] - 2s 345ms/step - loss: 0.0034 - accuracy: 1.0000 - val_loss: 0.3659 - val_accuracy: 0.8800\n",
            "Epoch 20/100\n",
            "6/6 [==============================] - ETA: 0s - loss: 0.0017 - accuracy: 1.0000\n",
            "Epoch 00020: val_accuracy improved from 0.88000 to 0.88800, saving model to best_weight_scene_mobileNet.h5\n",
            "6/6 [==============================] - 2s 338ms/step - loss: 0.0017 - accuracy: 1.0000 - val_loss: 0.3317 - val_accuracy: 0.8880\n",
            "Epoch 21/100\n",
            "6/6 [==============================] - ETA: 0s - loss: 0.0037 - accuracy: 1.0000\n",
            "Epoch 00021: val_accuracy improved from 0.88800 to 0.90800, saving model to best_weight_scene_mobileNet.h5\n",
            "6/6 [==============================] - 2s 300ms/step - loss: 0.0037 - accuracy: 1.0000 - val_loss: 0.3020 - val_accuracy: 0.9080\n",
            "Epoch 22/100\n",
            "6/6 [==============================] - ETA: 0s - loss: 0.0019 - accuracy: 1.0000\n",
            "Epoch 00022: val_accuracy improved from 0.90800 to 0.91200, saving model to best_weight_scene_mobileNet.h5\n",
            "6/6 [==============================] - 2s 307ms/step - loss: 0.0019 - accuracy: 1.0000 - val_loss: 0.2775 - val_accuracy: 0.9120\n",
            "Epoch 23/100\n",
            "6/6 [==============================] - ETA: 0s - loss: 0.0020 - accuracy: 1.0000\n",
            "Epoch 00023: val_accuracy improved from 0.91200 to 0.92000, saving model to best_weight_scene_mobileNet.h5\n",
            "6/6 [==============================] - 2s 351ms/step - loss: 0.0020 - accuracy: 1.0000 - val_loss: 0.2566 - val_accuracy: 0.9200\n",
            "Epoch 24/100\n",
            "6/6 [==============================] - ETA: 0s - loss: 0.0015 - accuracy: 1.0000\n",
            "Epoch 00024: val_accuracy improved from 0.92000 to 0.92800, saving model to best_weight_scene_mobileNet.h5\n",
            "6/6 [==============================] - 2s 290ms/step - loss: 0.0015 - accuracy: 1.0000 - val_loss: 0.2376 - val_accuracy: 0.9280\n",
            "Epoch 25/100\n",
            "6/6 [==============================] - ETA: 0s - loss: 0.0014 - accuracy: 1.0000\n",
            "Epoch 00025: val_accuracy did not improve from 0.92800\n",
            "6/6 [==============================] - 1s 211ms/step - loss: 0.0014 - accuracy: 1.0000 - val_loss: 0.2201 - val_accuracy: 0.9280\n",
            "Epoch 26/100\n",
            "6/6 [==============================] - ETA: 0s - loss: 0.0013 - accuracy: 1.0000\n",
            "Epoch 00026: val_accuracy improved from 0.92800 to 0.93200, saving model to best_weight_scene_mobileNet.h5\n",
            "6/6 [==============================] - 2s 290ms/step - loss: 0.0013 - accuracy: 1.0000 - val_loss: 0.2052 - val_accuracy: 0.9320\n",
            "Epoch 27/100\n",
            "6/6 [==============================] - ETA: 0s - loss: 0.0014 - accuracy: 1.0000\n",
            "Epoch 00027: val_accuracy did not improve from 0.93200\n",
            "6/6 [==============================] - 1s 216ms/step - loss: 0.0014 - accuracy: 1.0000 - val_loss: 0.1926 - val_accuracy: 0.9320\n",
            "Epoch 28/100\n",
            "6/6 [==============================] - ETA: 0s - loss: 0.0014 - accuracy: 1.0000\n",
            "Epoch 00028: val_accuracy improved from 0.93200 to 0.94000, saving model to best_weight_scene_mobileNet.h5\n",
            "6/6 [==============================] - 2s 293ms/step - loss: 0.0014 - accuracy: 1.0000 - val_loss: 0.1809 - val_accuracy: 0.9400\n",
            "Epoch 29/100\n",
            "6/6 [==============================] - ETA: 0s - loss: 0.0012 - accuracy: 1.0000\n",
            "Epoch 00029: val_accuracy improved from 0.94000 to 0.94400, saving model to best_weight_scene_mobileNet.h5\n",
            "6/6 [==============================] - 2s 345ms/step - loss: 0.0012 - accuracy: 1.0000 - val_loss: 0.1713 - val_accuracy: 0.9440\n",
            "Epoch 30/100\n",
            "6/6 [==============================] - ETA: 0s - loss: 0.0014 - accuracy: 1.0000\n",
            "Epoch 00030: val_accuracy did not improve from 0.94400\n",
            "6/6 [==============================] - 1s 214ms/step - loss: 0.0014 - accuracy: 1.0000 - val_loss: 0.1632 - val_accuracy: 0.9440\n",
            "Epoch 31/100\n",
            "6/6 [==============================] - ETA: 0s - loss: 0.0014 - accuracy: 1.0000\n",
            "Epoch 00031: val_accuracy did not improve from 0.94400\n",
            "6/6 [==============================] - 1s 214ms/step - loss: 0.0014 - accuracy: 1.0000 - val_loss: 0.1554 - val_accuracy: 0.9440\n",
            "Epoch 32/100\n",
            "6/6 [==============================] - ETA: 0s - loss: 0.0016 - accuracy: 1.0000\n",
            "Epoch 00032: val_accuracy did not improve from 0.94400\n",
            "6/6 [==============================] - 1s 211ms/step - loss: 0.0016 - accuracy: 1.0000 - val_loss: 0.1486 - val_accuracy: 0.9440\n",
            "Epoch 33/100\n",
            "6/6 [==============================] - ETA: 0s - loss: 0.0011 - accuracy: 1.0000\n",
            "Epoch 00033: val_accuracy improved from 0.94400 to 0.94800, saving model to best_weight_scene_mobileNet.h5\n",
            "6/6 [==============================] - 2s 298ms/step - loss: 0.0011 - accuracy: 1.0000 - val_loss: 0.1426 - val_accuracy: 0.9480\n",
            "Epoch 34/100\n",
            "6/6 [==============================] - ETA: 0s - loss: 0.0010 - accuracy: 1.0000\n",
            "Epoch 00034: val_accuracy did not improve from 0.94800\n",
            "6/6 [==============================] - 1s 219ms/step - loss: 0.0010 - accuracy: 1.0000 - val_loss: 0.1376 - val_accuracy: 0.9480\n",
            "Epoch 35/100\n",
            "6/6 [==============================] - ETA: 0s - loss: 0.0012 - accuracy: 1.0000\n",
            "Epoch 00035: val_accuracy improved from 0.94800 to 0.95600, saving model to best_weight_scene_mobileNet.h5\n",
            "6/6 [==============================] - 2s 300ms/step - loss: 0.0012 - accuracy: 1.0000 - val_loss: 0.1335 - val_accuracy: 0.9560\n",
            "Epoch 36/100\n",
            "6/6 [==============================] - ETA: 0s - loss: 0.0013 - accuracy: 1.0000\n",
            "Epoch 00036: val_accuracy did not improve from 0.95600\n",
            "6/6 [==============================] - 1s 219ms/step - loss: 0.0013 - accuracy: 1.0000 - val_loss: 0.1300 - val_accuracy: 0.9560\n",
            "Epoch 37/100\n",
            "6/6 [==============================] - ETA: 0s - loss: 8.4556e-04 - accuracy: 1.0000\n",
            "Epoch 00037: val_accuracy did not improve from 0.95600\n",
            "6/6 [==============================] - 1s 213ms/step - loss: 8.4556e-04 - accuracy: 1.0000 - val_loss: 0.1273 - val_accuracy: 0.9560\n",
            "Epoch 38/100\n",
            "6/6 [==============================] - ETA: 0s - loss: 0.0011 - accuracy: 1.0000\n",
            "Epoch 00038: val_accuracy did not improve from 0.95600\n",
            "6/6 [==============================] - 1s 213ms/step - loss: 0.0011 - accuracy: 1.0000 - val_loss: 0.1227 - val_accuracy: 0.9560\n",
            "Epoch 39/100\n",
            "6/6 [==============================] - ETA: 0s - loss: 9.3991e-04 - accuracy: 1.0000\n",
            "Epoch 00039: val_accuracy did not improve from 0.95600\n",
            "6/6 [==============================] - 1s 216ms/step - loss: 9.3991e-04 - accuracy: 1.0000 - val_loss: 0.1190 - val_accuracy: 0.9560\n",
            "Epoch 40/100\n",
            "6/6 [==============================] - ETA: 0s - loss: 0.0012 - accuracy: 1.0000\n",
            "Epoch 00040: val_accuracy improved from 0.95600 to 0.96000, saving model to best_weight_scene_mobileNet.h5\n",
            "6/6 [==============================] - 2s 303ms/step - loss: 0.0012 - accuracy: 1.0000 - val_loss: 0.1161 - val_accuracy: 0.9600\n",
            "Epoch 41/100\n",
            "6/6 [==============================] - ETA: 0s - loss: 9.9245e-04 - accuracy: 1.0000\n",
            "Epoch 00041: val_accuracy did not improve from 0.96000\n",
            "6/6 [==============================] - 1s 213ms/step - loss: 9.9245e-04 - accuracy: 1.0000 - val_loss: 0.1140 - val_accuracy: 0.9600\n",
            "Epoch 42/100\n",
            "6/6 [==============================] - ETA: 0s - loss: 9.7309e-04 - accuracy: 1.0000\n",
            "Epoch 00042: val_accuracy did not improve from 0.96000\n",
            "6/6 [==============================] - 1s 213ms/step - loss: 9.7309e-04 - accuracy: 1.0000 - val_loss: 0.1124 - val_accuracy: 0.9600\n",
            "Epoch 43/100\n",
            "6/6 [==============================] - ETA: 0s - loss: 7.8809e-04 - accuracy: 1.0000\n",
            "Epoch 00043: val_accuracy improved from 0.96000 to 0.96400, saving model to best_weight_scene_mobileNet.h5\n",
            "6/6 [==============================] - 2s 297ms/step - loss: 7.8809e-04 - accuracy: 1.0000 - val_loss: 0.1107 - val_accuracy: 0.9640\n",
            "Epoch 44/100\n",
            "6/6 [==============================] - ETA: 0s - loss: 9.7796e-04 - accuracy: 1.0000\n",
            "Epoch 00044: val_accuracy did not improve from 0.96400\n",
            "6/6 [==============================] - 1s 216ms/step - loss: 9.7796e-04 - accuracy: 1.0000 - val_loss: 0.1091 - val_accuracy: 0.9640\n",
            "Epoch 45/100\n",
            "6/6 [==============================] - ETA: 0s - loss: 0.0014 - accuracy: 1.0000    \n",
            "Epoch 00045: val_accuracy did not improve from 0.96400\n",
            "6/6 [==============================] - 1s 220ms/step - loss: 0.0014 - accuracy: 1.0000 - val_loss: 0.1078 - val_accuracy: 0.9640\n",
            "Epoch 46/100\n",
            "6/6 [==============================] - ETA: 0s - loss: 0.0010 - accuracy: 1.0000\n",
            "Epoch 00046: val_accuracy did not improve from 0.96400\n",
            "6/6 [==============================] - 1s 218ms/step - loss: 0.0010 - accuracy: 1.0000 - val_loss: 0.1073 - val_accuracy: 0.9640\n",
            "Epoch 47/100\n",
            "6/6 [==============================] - ETA: 0s - loss: 6.5044e-04 - accuracy: 1.0000\n",
            "Epoch 00047: val_accuracy did not improve from 0.96400\n",
            "6/6 [==============================] - 1s 216ms/step - loss: 6.5044e-04 - accuracy: 1.0000 - val_loss: 0.1070 - val_accuracy: 0.9640\n",
            "Epoch 48/100\n",
            "6/6 [==============================] - ETA: 0s - loss: 0.0012 - accuracy: 1.0000\n",
            "Epoch 00048: val_accuracy did not improve from 0.96400\n",
            "6/6 [==============================] - 1s 212ms/step - loss: 0.0012 - accuracy: 1.0000 - val_loss: 0.1067 - val_accuracy: 0.9640\n",
            "Epoch 49/100\n",
            "6/6 [==============================] - ETA: 0s - loss: 5.8062e-04 - accuracy: 1.0000\n",
            "Epoch 00049: val_accuracy did not improve from 0.96400\n",
            "6/6 [==============================] - 1s 216ms/step - loss: 5.8062e-04 - accuracy: 1.0000 - val_loss: 0.1061 - val_accuracy: 0.9640\n",
            "Epoch 50/100\n",
            "6/6 [==============================] - ETA: 0s - loss: 6.7814e-04 - accuracy: 1.0000\n",
            "Epoch 00050: val_accuracy did not improve from 0.96400\n",
            "6/6 [==============================] - 1s 220ms/step - loss: 6.7814e-04 - accuracy: 1.0000 - val_loss: 0.1051 - val_accuracy: 0.9640\n",
            "Epoch 51/100\n",
            "6/6 [==============================] - ETA: 0s - loss: 7.9523e-04 - accuracy: 1.0000\n",
            "Epoch 00051: val_accuracy did not improve from 0.96400\n",
            "6/6 [==============================] - 1s 221ms/step - loss: 7.9523e-04 - accuracy: 1.0000 - val_loss: 0.1040 - val_accuracy: 0.9640\n",
            "Epoch 52/100\n",
            "6/6 [==============================] - ETA: 0s - loss: 7.2567e-04 - accuracy: 1.0000\n",
            "Epoch 00052: val_accuracy did not improve from 0.96400\n",
            "6/6 [==============================] - 1s 218ms/step - loss: 7.2567e-04 - accuracy: 1.0000 - val_loss: 0.1030 - val_accuracy: 0.9640\n",
            "Epoch 53/100\n",
            "6/6 [==============================] - ETA: 0s - loss: 7.1191e-04 - accuracy: 1.0000\n",
            "Epoch 00053: val_accuracy did not improve from 0.96400\n",
            "6/6 [==============================] - 1s 215ms/step - loss: 7.1191e-04 - accuracy: 1.0000 - val_loss: 0.1022 - val_accuracy: 0.9640\n",
            "Epoch 54/100\n",
            "6/6 [==============================] - ETA: 0s - loss: 6.2070e-04 - accuracy: 1.0000\n",
            "Epoch 00054: val_accuracy did not improve from 0.96400\n",
            "6/6 [==============================] - 1s 217ms/step - loss: 6.2070e-04 - accuracy: 1.0000 - val_loss: 0.1014 - val_accuracy: 0.9640\n",
            "Epoch 55/100\n",
            "6/6 [==============================] - ETA: 0s - loss: 4.4942e-04 - accuracy: 1.0000\n",
            "Epoch 00055: val_accuracy improved from 0.96400 to 0.96800, saving model to best_weight_scene_mobileNet.h5\n",
            "6/6 [==============================] - 2s 357ms/step - loss: 4.4942e-04 - accuracy: 1.0000 - val_loss: 0.1008 - val_accuracy: 0.9680\n",
            "Epoch 56/100\n",
            "6/6 [==============================] - ETA: 0s - loss: 4.6575e-04 - accuracy: 1.0000\n",
            "Epoch 00056: val_accuracy did not improve from 0.96800\n",
            "6/6 [==============================] - 1s 213ms/step - loss: 4.6575e-04 - accuracy: 1.0000 - val_loss: 0.1003 - val_accuracy: 0.9680\n",
            "Epoch 57/100\n",
            "6/6 [==============================] - ETA: 0s - loss: 5.9826e-04 - accuracy: 1.0000\n",
            "Epoch 00057: val_accuracy did not improve from 0.96800\n",
            "6/6 [==============================] - 1s 213ms/step - loss: 5.9826e-04 - accuracy: 1.0000 - val_loss: 0.0999 - val_accuracy: 0.9680\n",
            "Epoch 58/100\n",
            "6/6 [==============================] - ETA: 0s - loss: 8.1523e-04 - accuracy: 1.0000\n",
            "Epoch 00058: val_accuracy did not improve from 0.96800\n",
            "6/6 [==============================] - 1s 219ms/step - loss: 8.1523e-04 - accuracy: 1.0000 - val_loss: 0.0997 - val_accuracy: 0.9680\n",
            "Epoch 59/100\n",
            "6/6 [==============================] - ETA: 0s - loss: 5.0293e-04 - accuracy: 1.0000\n",
            "Epoch 00059: val_accuracy did not improve from 0.96800\n",
            "6/6 [==============================] - 1s 213ms/step - loss: 5.0293e-04 - accuracy: 1.0000 - val_loss: 0.0994 - val_accuracy: 0.9680\n",
            "Epoch 60/100\n",
            "6/6 [==============================] - ETA: 0s - loss: 0.0013 - accuracy: 1.0000\n",
            "Epoch 00060: val_accuracy did not improve from 0.96800\n",
            "6/6 [==============================] - 1s 204ms/step - loss: 0.0013 - accuracy: 1.0000 - val_loss: 0.1002 - val_accuracy: 0.9680\n",
            "Epoch 61/100\n",
            "6/6 [==============================] - ETA: 0s - loss: 7.2582e-04 - accuracy: 1.0000\n",
            "Epoch 00061: val_accuracy did not improve from 0.96800\n",
            "6/6 [==============================] - 1s 204ms/step - loss: 7.2582e-04 - accuracy: 1.0000 - val_loss: 0.1009 - val_accuracy: 0.9680\n",
            "Epoch 62/100\n",
            "6/6 [==============================] - ETA: 0s - loss: 5.4909e-04 - accuracy: 1.0000\n",
            "Epoch 00062: val_accuracy did not improve from 0.96800\n",
            "6/6 [==============================] - 1s 209ms/step - loss: 5.4909e-04 - accuracy: 1.0000 - val_loss: 0.1012 - val_accuracy: 0.9680\n",
            "Epoch 63/100\n",
            "6/6 [==============================] - ETA: 0s - loss: 4.0937e-04 - accuracy: 1.0000\n",
            "Epoch 00063: val_accuracy did not improve from 0.96800\n",
            "6/6 [==============================] - 1s 207ms/step - loss: 4.0937e-04 - accuracy: 1.0000 - val_loss: 0.1013 - val_accuracy: 0.9680\n",
            "Epoch 64/100\n",
            "6/6 [==============================] - ETA: 0s - loss: 7.0263e-04 - accuracy: 1.0000\n",
            "Epoch 00064: val_accuracy did not improve from 0.96800\n",
            "6/6 [==============================] - 1s 210ms/step - loss: 7.0263e-04 - accuracy: 1.0000 - val_loss: 0.1017 - val_accuracy: 0.9680\n",
            "Epoch 65/100\n",
            "6/6 [==============================] - ETA: 0s - loss: 6.0797e-04 - accuracy: 1.0000\n",
            "Epoch 00065: val_accuracy did not improve from 0.96800\n",
            "6/6 [==============================] - 1s 207ms/step - loss: 6.0797e-04 - accuracy: 1.0000 - val_loss: 0.1020 - val_accuracy: 0.9640\n",
            "Epoch 66/100\n",
            "6/6 [==============================] - ETA: 0s - loss: 9.3263e-04 - accuracy: 1.0000\n",
            "Epoch 00066: val_accuracy did not improve from 0.96800\n",
            "6/6 [==============================] - 1s 209ms/step - loss: 9.3263e-04 - accuracy: 1.0000 - val_loss: 0.1027 - val_accuracy: 0.9640\n",
            "Epoch 67/100\n",
            "6/6 [==============================] - ETA: 0s - loss: 4.6921e-04 - accuracy: 1.0000\n",
            "Epoch 00067: val_accuracy did not improve from 0.96800\n",
            "6/6 [==============================] - 1s 211ms/step - loss: 4.6921e-04 - accuracy: 1.0000 - val_loss: 0.1032 - val_accuracy: 0.9640\n",
            "Epoch 68/100\n",
            "6/6 [==============================] - ETA: 0s - loss: 5.1936e-04 - accuracy: 1.0000\n",
            "Epoch 00068: val_accuracy did not improve from 0.96800\n",
            "6/6 [==============================] - 1s 207ms/step - loss: 5.1936e-04 - accuracy: 1.0000 - val_loss: 0.1031 - val_accuracy: 0.9640\n",
            "Epoch 69/100\n",
            "6/6 [==============================] - ETA: 0s - loss: 3.1026e-04 - accuracy: 1.0000\n",
            "Epoch 00069: val_accuracy did not improve from 0.96800\n",
            "6/6 [==============================] - 1s 212ms/step - loss: 3.1026e-04 - accuracy: 1.0000 - val_loss: 0.1031 - val_accuracy: 0.9640\n"
          ],
          "name": "stdout"
        }
      ]
    },
    {
      "cell_type": "markdown",
      "metadata": {
        "id": "YyUTMscelHED"
      },
      "source": [
        "**Ploting Performansi**"
      ]
    },
    {
      "cell_type": "code",
      "metadata": {
        "id": "bO_f3hLmlGjP",
        "colab": {
          "base_uri": "https://localhost:8080/",
          "height": 590
        },
        "outputId": "c458bb25-a67a-49e5-89a9-16082b5191ca"
      },
      "source": [
        "import matplotlib.pyplot as plt\n",
        "\n",
        "print(H.history.keys())\n",
        "# summarize history for accuracy\n",
        "plt.plot(H.history['accuracy'])\n",
        "plt.plot(H.history['val_accuracy'])\n",
        "plt.title('model accuracy')\n",
        "plt.ylabel('accuracy')\n",
        "plt.xlabel('epoch')\n",
        "plt.legend(['train', 'test'], loc='upper left')\n",
        "plt.show()\n",
        "# summarize history for loss\n",
        "plt.plot(H.history['loss'])\n",
        "plt.plot(H.history['val_loss'])\n",
        "plt.title('model loss')\n",
        "plt.ylabel('loss')\n",
        "plt.xlabel('epoch')\n",
        "plt.legend(['train', 'test'], loc='upper left')\n",
        "plt.show()"
      ],
      "execution_count": null,
      "outputs": [
        {
          "output_type": "stream",
          "text": [
            "dict_keys(['loss', 'accuracy', 'val_loss', 'val_accuracy'])\n"
          ],
          "name": "stdout"
        },
        {
          "output_type": "display_data",
          "data": {
            "image/png": "[encoded data removed]",
            "text/plain": [
              "<Figure size 432x288 with 1 Axes>"
            ]
          },
          "metadata": {
            "tags": [],
            "needs_background": "light"
          }
        },
        {
          "output_type": "display_data",
          "data": {
            "image/png": "[encoded data removed]",
            "text/plain": [
              "<Figure size 432x288 with 1 Axes>"
            ]
          },
          "metadata": {
            "tags": [],
            "needs_background": "light"
          }
        }
      ]
    },
    {
      "cell_type": "markdown",
      "metadata": {
        "id": "Xx-GQ3wUlKNh"
      },
      "source": [
        "**Evaluasi Hasil**"
      ]
    },
    {
      "cell_type": "code",
      "metadata": {
        "id": "E4yhC121lKop",
        "colab": {
          "base_uri": "https://localhost:8080/"
        },
        "outputId": "7dd3f7ef-da30-4ffc-9265-11ca47542d7d"
      },
      "source": [
        "\n",
        "# evaluate the network\n",
        "print(\"[INFO] evaluating network...\")\n",
        "predictions = model.predict(x_test, batch_size=32)\n",
        "print(classification_report(y_test.argmax(axis=1),\n",
        "\tpredictions.argmax(axis=1), target_names=lb.classes_))"
      ],
      "execution_count": null,
      "outputs": [
        {
          "output_type": "stream",
          "text": [
            "[INFO] evaluating network...\n",
            "              precision    recall  f1-score   support\n",
            "\n",
            "      GMB_01       0.93      1.00      0.96        50\n",
            "      GMB_02       1.00      1.00      1.00        50\n",
            "      GMB_03       1.00      0.92      0.96        50\n",
            "      GMB_04       0.94      0.96      0.95        50\n",
            "      GMB_05       0.98      0.96      0.97        50\n",
            "\n",
            "    accuracy                           0.97       250\n",
            "   macro avg       0.97      0.97      0.97       250\n",
            "weighted avg       0.97      0.97      0.97       250\n",
            "\n"
          ],
          "name": "stdout"
        }
      ]
    },
    {
      "cell_type": "markdown",
      "metadata": {
        "id": "WQNlTPIzlZEw"
      },
      "source": [
        "**Simpan Model**"
      ]
    },
    {
      "cell_type": "code",
      "metadata": {
        "id": "iBe82JlFlYpc",
        "colab": {
          "base_uri": "https://localhost:8080/"
        },
        "outputId": "5b7533a8-c054-45c2-9855-dfe2ba6b64c2"
      },
      "source": [
        "model.save('nnmodel_scene')"
      ],
      "execution_count": null,
      "outputs": [
        {
          "output_type": "stream",
          "text": [
            "WARNING:tensorflow:From /usr/local/lib/python3.6/dist-packages/tensorflow/python/training/tracking/tracking.py:111: Model.state_updates (from tensorflow.python.keras.engine.training) is deprecated and will be removed in a future version.\n",
            "Instructions for updating:\n",
            "This property should not be used in TensorFlow 2.0, as updates are applied automatically.\n",
            "WARNING:tensorflow:From /usr/local/lib/python3.6/dist-packages/tensorflow/python/training/tracking/tracking.py:111: Layer.updates (from tensorflow.python.keras.engine.base_layer) is deprecated and will be removed in a future version.\n",
            "Instructions for updating:\n",
            "This property should not be used in TensorFlow 2.0, as updates are applied automatically.\n",
            "INFO:tensorflow:Assets written to: nnmodel_scene/assets\n"
          ],
          "name": "stdout"
        }
      ]
    }
  ]
}